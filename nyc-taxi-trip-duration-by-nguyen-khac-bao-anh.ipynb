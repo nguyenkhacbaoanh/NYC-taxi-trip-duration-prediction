{
 "cells": [
  {
   "cell_type": "markdown",
   "metadata": {
    "_uuid": "cd33a8b14aa1500a3465a01dd34a1d0a2fd89276"
   },
   "source": [
    "**This kernel is for applicated Machine Learning to predicting trip duration in NYC taxi**\n",
    "**Please to check my kernel [NYC EDA](https://www.kaggle.com/baoanh/nyc-taxi-duration-eda-by-nguyen-khac-bao-anh) to understanding this dataset and knowing kind of dataset that i used for this kernel**"
   ]
  },
  {
   "cell_type": "code",
   "execution_count": 1,
   "metadata": {
    "_cell_guid": "b1076dfc-b9ad-4769-8c92-a6c4dae69d19",
    "_uuid": "8f2839f25d086af736a60e9eeb907d3b93b6e0e5"
   },
   "outputs": [
    {
     "name": "stdout",
     "output_type": "stream",
     "text": [
      "['nyc-taxi-duration-eda-by-nguyen-khac-bao-anh', 'nyc-taxi-trip-duration']\n"
     ]
    }
   ],
   "source": [
    "import numpy as np # linear algebra\n",
    "import pandas as pd # data processing, CSV file I/O (e.g. pd.read_csv)\n",
    "\n",
    "# visualiser les données\n",
    "import matplotlib.pyplot as plt\n",
    "import seaborn as sns\n",
    "# Input data files are available in the \"../input/\" directory.\n",
    "# For example, running this (by clicking run or pressing Shift+Enter) will list the files in the input directory\n",
    "\n",
    "import os\n",
    "print(os.listdir(\"../input\"))\n",
    "# Any results you write to the current directory are saved as output.\n",
    "\n",
    "import warnings\n",
    "warnings.filterwarnings('ignore')"
   ]
  },
  {
   "cell_type": "code",
   "execution_count": 2,
   "metadata": {
    "_uuid": "52b64e9c52d61311452db16e9b944eb933dd42e6"
   },
   "outputs": [],
   "source": [
    "%matplotlib inline\n",
    "sns.set({'figure.figsize':(16,8)})"
   ]
  },
  {
   "cell_type": "markdown",
   "metadata": {
    "_cell_guid": "79c7e3d0-c299-4dcb-8224-4455121ee9b0",
    "_uuid": "d629ff2d2480ee46fbb7e2d37f6b5fab8052498a",
    "collapsed": true
   },
   "source": [
    "# Data Loading"
   ]
  },
  {
   "cell_type": "code",
   "execution_count": 3,
   "metadata": {
    "_uuid": "7958f86e205f7a1c7ef5905d8ae95bcd37349ae8"
   },
   "outputs": [],
   "source": [
    "train = pd.read_csv(\"../input/nyc-taxi-duration-eda-by-nguyen-khac-bao-anh/training_data.csv\")\n",
    "test = pd.read_csv(\"../input/nyc-taxi-duration-eda-by-nguyen-khac-bao-anh/testing_data.csv\")"
   ]
  },
  {
   "cell_type": "code",
   "execution_count": 4,
   "metadata": {
    "_uuid": "d156370f100b3041de7bce7cd3d4e1a997e485bb"
   },
   "outputs": [
    {
     "name": "stdout",
     "output_type": "stream",
     "text": [
      "shape of training set(1458644, 26)\n",
      "shape of testing set(625134, 23)\n"
     ]
    }
   ],
   "source": [
    "print(f\"shape of training set{train.shape}\")\n",
    "print(f\"shape of testing set{test.shape}\")"
   ]
  },
  {
   "cell_type": "markdown",
   "metadata": {
    "_uuid": "928bd1aff8d791d46678e024b49744786e7322de"
   },
   "source": [
    "### Data Training vs Data testing:"
   ]
  },
  {
   "cell_type": "code",
   "execution_count": 5,
   "metadata": {
    "_uuid": "fcc431efb1edb4974b6b23f9448f53346707c030"
   },
   "outputs": [
    {
     "data": {
      "text/html": [
       "<div>\n",
       "<style scoped>\n",
       "    .dataframe tbody tr th:only-of-type {\n",
       "        vertical-align: middle;\n",
       "    }\n",
       "\n",
       "    .dataframe tbody tr th {\n",
       "        vertical-align: top;\n",
       "    }\n",
       "\n",
       "    .dataframe thead th {\n",
       "        text-align: right;\n",
       "    }\n",
       "</style>\n",
       "<table border=\"1\" class=\"dataframe\">\n",
       "  <thead>\n",
       "    <tr style=\"text-align: right;\">\n",
       "      <th></th>\n",
       "      <th>id</th>\n",
       "      <th>vendor_id</th>\n",
       "      <th>pickup_datetime</th>\n",
       "      <th>dropoff_datetime</th>\n",
       "      <th>passenger_count</th>\n",
       "      <th>pickup_longitude</th>\n",
       "      <th>pickup_latitude</th>\n",
       "      <th>dropoff_longitude</th>\n",
       "      <th>dropoff_latitude</th>\n",
       "      <th>store_and_fwd_flag</th>\n",
       "      <th>trip_duration</th>\n",
       "      <th>log_trip_duration</th>\n",
       "      <th>month</th>\n",
       "      <th>day</th>\n",
       "      <th>dayofweek</th>\n",
       "      <th>weekday</th>\n",
       "      <th>hour</th>\n",
       "      <th>minute</th>\n",
       "      <th>dist_long</th>\n",
       "      <th>dist_lat</th>\n",
       "      <th>dist</th>\n",
       "      <th>0_x</th>\n",
       "      <th>0_y</th>\n",
       "      <th>ave_speed_x</th>\n",
       "      <th>ave_speed_y</th>\n",
       "      <th>Temp.</th>\n",
       "    </tr>\n",
       "  </thead>\n",
       "  <tbody>\n",
       "    <tr>\n",
       "      <th>0</th>\n",
       "      <td>id2875421</td>\n",
       "      <td>2</td>\n",
       "      <td>2016-03-14 17:24:55</td>\n",
       "      <td>2016-03-14 17:32:30</td>\n",
       "      <td>1</td>\n",
       "      <td>-73.982155</td>\n",
       "      <td>40.767937</td>\n",
       "      <td>-73.964630</td>\n",
       "      <td>40.765602</td>\n",
       "      <td>0</td>\n",
       "      <td>455</td>\n",
       "      <td>6.120297</td>\n",
       "      <td>3</td>\n",
       "      <td>14</td>\n",
       "      <td>0</td>\n",
       "      <td>0</td>\n",
       "      <td>17</td>\n",
       "      <td>24</td>\n",
       "      <td>-0.017525</td>\n",
       "      <td>0.002335</td>\n",
       "      <td>0.017680</td>\n",
       "      <td>68221</td>\n",
       "      <td>72764</td>\n",
       "      <td>3.610834</td>\n",
       "      <td>3.898475</td>\n",
       "      <td>4.4</td>\n",
       "    </tr>\n",
       "    <tr>\n",
       "      <th>1</th>\n",
       "      <td>id2377394</td>\n",
       "      <td>1</td>\n",
       "      <td>2016-06-12 00:43:35</td>\n",
       "      <td>2016-06-12 00:54:38</td>\n",
       "      <td>1</td>\n",
       "      <td>-73.980415</td>\n",
       "      <td>40.738564</td>\n",
       "      <td>-73.999481</td>\n",
       "      <td>40.731152</td>\n",
       "      <td>0</td>\n",
       "      <td>663</td>\n",
       "      <td>6.496775</td>\n",
       "      <td>6</td>\n",
       "      <td>12</td>\n",
       "      <td>6</td>\n",
       "      <td>6</td>\n",
       "      <td>0</td>\n",
       "      <td>43</td>\n",
       "      <td>0.019066</td>\n",
       "      <td>0.007412</td>\n",
       "      <td>0.020456</td>\n",
       "      <td>59478</td>\n",
       "      <td>51890</td>\n",
       "      <td>3.855183</td>\n",
       "      <td>3.548049</td>\n",
       "      <td>28.9</td>\n",
       "    </tr>\n",
       "    <tr>\n",
       "      <th>2</th>\n",
       "      <td>id3858529</td>\n",
       "      <td>2</td>\n",
       "      <td>2016-01-19 11:35:24</td>\n",
       "      <td>2016-01-19 12:10:48</td>\n",
       "      <td>1</td>\n",
       "      <td>-73.979027</td>\n",
       "      <td>40.763939</td>\n",
       "      <td>-74.005333</td>\n",
       "      <td>40.710087</td>\n",
       "      <td>0</td>\n",
       "      <td>2124</td>\n",
       "      <td>7.661056</td>\n",
       "      <td>1</td>\n",
       "      <td>19</td>\n",
       "      <td>1</td>\n",
       "      <td>1</td>\n",
       "      <td>11</td>\n",
       "      <td>35</td>\n",
       "      <td>0.026306</td>\n",
       "      <td>0.053852</td>\n",
       "      <td>0.059934</td>\n",
       "      <td>111200</td>\n",
       "      <td>38071</td>\n",
       "      <td>3.474121</td>\n",
       "      <td>4.320430</td>\n",
       "      <td>-6.7</td>\n",
       "    </tr>\n",
       "    <tr>\n",
       "      <th>3</th>\n",
       "      <td>id3504673</td>\n",
       "      <td>2</td>\n",
       "      <td>2016-04-06 19:32:31</td>\n",
       "      <td>2016-04-06 19:39:40</td>\n",
       "      <td>1</td>\n",
       "      <td>-74.010040</td>\n",
       "      <td>40.719971</td>\n",
       "      <td>-74.012268</td>\n",
       "      <td>40.706718</td>\n",
       "      <td>0</td>\n",
       "      <td>429</td>\n",
       "      <td>6.061457</td>\n",
       "      <td>4</td>\n",
       "      <td>6</td>\n",
       "      <td>2</td>\n",
       "      <td>2</td>\n",
       "      <td>19</td>\n",
       "      <td>32</td>\n",
       "      <td>0.002228</td>\n",
       "      <td>0.013252</td>\n",
       "      <td>0.013438</td>\n",
       "      <td>29991</td>\n",
       "      <td>38071</td>\n",
       "      <td>4.085823</td>\n",
       "      <td>4.320430</td>\n",
       "      <td>7.2</td>\n",
       "    </tr>\n",
       "    <tr>\n",
       "      <th>4</th>\n",
       "      <td>id2181028</td>\n",
       "      <td>2</td>\n",
       "      <td>2016-03-26 13:30:55</td>\n",
       "      <td>2016-03-26 13:38:10</td>\n",
       "      <td>1</td>\n",
       "      <td>-73.973053</td>\n",
       "      <td>40.793209</td>\n",
       "      <td>-73.972923</td>\n",
       "      <td>40.782520</td>\n",
       "      <td>0</td>\n",
       "      <td>435</td>\n",
       "      <td>6.075346</td>\n",
       "      <td>3</td>\n",
       "      <td>26</td>\n",
       "      <td>5</td>\n",
       "      <td>5</td>\n",
       "      <td>13</td>\n",
       "      <td>30</td>\n",
       "      <td>-0.000130</td>\n",
       "      <td>0.010689</td>\n",
       "      <td>0.010690</td>\n",
       "      <td>36415</td>\n",
       "      <td>11401</td>\n",
       "      <td>4.407767</td>\n",
       "      <td>4.054702</td>\n",
       "      <td>9.4</td>\n",
       "    </tr>\n",
       "  </tbody>\n",
       "</table>\n",
       "</div>"
      ],
      "text/plain": [
       "          id  vendor_id  ...  ave_speed_y Temp.\n",
       "0  id2875421          2  ...     3.898475   4.4\n",
       "1  id2377394          1  ...     3.548049  28.9\n",
       "2  id3858529          2  ...     4.320430  -6.7\n",
       "3  id3504673          2  ...     4.320430   7.2\n",
       "4  id2181028          2  ...     4.054702   9.4\n",
       "\n",
       "[5 rows x 26 columns]"
      ]
     },
     "execution_count": 5,
     "metadata": {},
     "output_type": "execute_result"
    }
   ],
   "source": [
    "train.head()"
   ]
  },
  {
   "cell_type": "code",
   "execution_count": 6,
   "metadata": {
    "_uuid": "d4c5569e98ea61ce4f93afd171dd484955c54f75"
   },
   "outputs": [
    {
     "data": {
      "text/html": [
       "<div>\n",
       "<style scoped>\n",
       "    .dataframe tbody tr th:only-of-type {\n",
       "        vertical-align: middle;\n",
       "    }\n",
       "\n",
       "    .dataframe tbody tr th {\n",
       "        vertical-align: top;\n",
       "    }\n",
       "\n",
       "    .dataframe thead th {\n",
       "        text-align: right;\n",
       "    }\n",
       "</style>\n",
       "<table border=\"1\" class=\"dataframe\">\n",
       "  <thead>\n",
       "    <tr style=\"text-align: right;\">\n",
       "      <th></th>\n",
       "      <th>id</th>\n",
       "      <th>vendor_id</th>\n",
       "      <th>pickup_datetime</th>\n",
       "      <th>passenger_count</th>\n",
       "      <th>pickup_longitude</th>\n",
       "      <th>pickup_latitude</th>\n",
       "      <th>dropoff_longitude</th>\n",
       "      <th>dropoff_latitude</th>\n",
       "      <th>store_and_fwd_flag</th>\n",
       "      <th>month</th>\n",
       "      <th>day</th>\n",
       "      <th>dayofweek</th>\n",
       "      <th>weekday</th>\n",
       "      <th>hour</th>\n",
       "      <th>minute</th>\n",
       "      <th>dist_long</th>\n",
       "      <th>dist_lat</th>\n",
       "      <th>dist</th>\n",
       "      <th>0_x</th>\n",
       "      <th>0_y</th>\n",
       "      <th>ave_speed_x</th>\n",
       "      <th>ave_speed_y</th>\n",
       "      <th>Temp.</th>\n",
       "    </tr>\n",
       "  </thead>\n",
       "  <tbody>\n",
       "    <tr>\n",
       "      <th>0</th>\n",
       "      <td>id3004672</td>\n",
       "      <td>1</td>\n",
       "      <td>2016-06-30 23:59:58</td>\n",
       "      <td>1</td>\n",
       "      <td>-73.988129</td>\n",
       "      <td>40.732029</td>\n",
       "      <td>-73.990173</td>\n",
       "      <td>40.756680</td>\n",
       "      <td>0</td>\n",
       "      <td>6</td>\n",
       "      <td>30</td>\n",
       "      <td>3</td>\n",
       "      <td>3</td>\n",
       "      <td>23</td>\n",
       "      <td>59</td>\n",
       "      <td>0.002045</td>\n",
       "      <td>-0.024651</td>\n",
       "      <td>0.024735</td>\n",
       "      <td>73241</td>\n",
       "      <td>75286</td>\n",
       "      <td>3.698298</td>\n",
       "      <td>3.342108</td>\n",
       "      <td>24.4</td>\n",
       "    </tr>\n",
       "    <tr>\n",
       "      <th>1</th>\n",
       "      <td>id3505355</td>\n",
       "      <td>1</td>\n",
       "      <td>2016-06-30 23:59:53</td>\n",
       "      <td>1</td>\n",
       "      <td>-73.964203</td>\n",
       "      <td>40.679993</td>\n",
       "      <td>-73.959808</td>\n",
       "      <td>40.655403</td>\n",
       "      <td>0</td>\n",
       "      <td>6</td>\n",
       "      <td>30</td>\n",
       "      <td>3</td>\n",
       "      <td>3</td>\n",
       "      <td>23</td>\n",
       "      <td>59</td>\n",
       "      <td>-0.004395</td>\n",
       "      <td>0.024590</td>\n",
       "      <td>0.024979</td>\n",
       "      <td>473</td>\n",
       "      <td>1018</td>\n",
       "      <td>4.581356</td>\n",
       "      <td>5.379099</td>\n",
       "      <td>24.4</td>\n",
       "    </tr>\n",
       "    <tr>\n",
       "      <th>2</th>\n",
       "      <td>id1217141</td>\n",
       "      <td>1</td>\n",
       "      <td>2016-06-30 23:59:47</td>\n",
       "      <td>1</td>\n",
       "      <td>-73.997437</td>\n",
       "      <td>40.737583</td>\n",
       "      <td>-73.986160</td>\n",
       "      <td>40.729523</td>\n",
       "      <td>0</td>\n",
       "      <td>6</td>\n",
       "      <td>30</td>\n",
       "      <td>3</td>\n",
       "      <td>3</td>\n",
       "      <td>23</td>\n",
       "      <td>59</td>\n",
       "      <td>-0.011276</td>\n",
       "      <td>0.008060</td>\n",
       "      <td>0.013861</td>\n",
       "      <td>62747</td>\n",
       "      <td>58382</td>\n",
       "      <td>3.764735</td>\n",
       "      <td>3.558096</td>\n",
       "      <td>24.4</td>\n",
       "    </tr>\n",
       "    <tr>\n",
       "      <th>3</th>\n",
       "      <td>id2150126</td>\n",
       "      <td>2</td>\n",
       "      <td>2016-06-30 23:59:41</td>\n",
       "      <td>1</td>\n",
       "      <td>-73.956070</td>\n",
       "      <td>40.771900</td>\n",
       "      <td>-73.986427</td>\n",
       "      <td>40.730469</td>\n",
       "      <td>0</td>\n",
       "      <td>6</td>\n",
       "      <td>30</td>\n",
       "      <td>3</td>\n",
       "      <td>3</td>\n",
       "      <td>23</td>\n",
       "      <td>59</td>\n",
       "      <td>0.030357</td>\n",
       "      <td>0.041431</td>\n",
       "      <td>0.051363</td>\n",
       "      <td>73643</td>\n",
       "      <td>58382</td>\n",
       "      <td>3.901261</td>\n",
       "      <td>3.558096</td>\n",
       "      <td>24.4</td>\n",
       "    </tr>\n",
       "    <tr>\n",
       "      <th>4</th>\n",
       "      <td>id1598245</td>\n",
       "      <td>1</td>\n",
       "      <td>2016-06-30 23:59:33</td>\n",
       "      <td>1</td>\n",
       "      <td>-73.970215</td>\n",
       "      <td>40.761475</td>\n",
       "      <td>-73.961510</td>\n",
       "      <td>40.755890</td>\n",
       "      <td>0</td>\n",
       "      <td>6</td>\n",
       "      <td>30</td>\n",
       "      <td>3</td>\n",
       "      <td>3</td>\n",
       "      <td>23</td>\n",
       "      <td>59</td>\n",
       "      <td>-0.008705</td>\n",
       "      <td>0.005585</td>\n",
       "      <td>0.010343</td>\n",
       "      <td>128664</td>\n",
       "      <td>36023</td>\n",
       "      <td>3.844566</td>\n",
       "      <td>3.799226</td>\n",
       "      <td>24.4</td>\n",
       "    </tr>\n",
       "  </tbody>\n",
       "</table>\n",
       "</div>"
      ],
      "text/plain": [
       "          id  vendor_id  ...   ave_speed_y  Temp.\n",
       "0  id3004672          1  ...      3.342108   24.4\n",
       "1  id3505355          1  ...      5.379099   24.4\n",
       "2  id1217141          1  ...      3.558096   24.4\n",
       "3  id2150126          2  ...      3.558096   24.4\n",
       "4  id1598245          1  ...      3.799226   24.4\n",
       "\n",
       "[5 rows x 23 columns]"
      ]
     },
     "execution_count": 6,
     "metadata": {},
     "output_type": "execute_result"
    }
   ],
   "source": [
    "test.head()"
   ]
  },
  {
   "cell_type": "markdown",
   "metadata": {
    "_uuid": "c37a5a0ad53c222b6e1c760d3eb7b84e66f75941"
   },
   "source": [
    "# Select dataset"
   ]
  },
  {
   "cell_type": "code",
   "execution_count": 7,
   "metadata": {
    "_uuid": "f37178d3fec0d23db4affbc642a1afbc1c38115c"
   },
   "outputs": [
    {
     "name": "stdout",
     "output_type": "stream",
     "text": [
      "La différence de la variable entre data training et data testing:{'dropoff_datetime', 'trip_duration', 'log_trip_duration'}\n"
     ]
    }
   ],
   "source": [
    "col_diff = list(set(train.columns).difference(set(test.columns)))\n",
    "print(f\"La différence de la variable entre data training et data testing:\\\n",
    "{set(train.columns).difference(set(test.columns))}\")"
   ]
  },
  {
   "cell_type": "code",
   "execution_count": 8,
   "metadata": {
    "_uuid": "e62e08c543c633d8530994fe6bbeb48d4875634a"
   },
   "outputs": [],
   "source": [
    "xtrain = train.drop(['id', 'pickup_datetime', 'dropoff_datetime', 'trip_duration', 'log_trip_duration'], axis = 1).as_matrix()\n",
    "xtest = test.drop(['id', 'pickup_datetime', ], axis = 1).as_matrix()\n",
    "y = train['log_trip_duration'].values\n",
    "del(train, test)"
   ]
  },
  {
   "cell_type": "code",
   "execution_count": 9,
   "metadata": {
    "_uuid": "35b2a5d861ad03deaf5699aad438577fd9335e4f"
   },
   "outputs": [],
   "source": [
    "from sklearn.model_selection import train_test_split, cross_val_score"
   ]
  },
  {
   "cell_type": "code",
   "execution_count": 10,
   "metadata": {
    "_uuid": "6f155314b096c2d283ee776bfdcd16b5f96185ad"
   },
   "outputs": [
    {
     "data": {
      "text/plain": [
       "((1166915, 21), (291729, 21), (1166915,), (291729,))"
      ]
     },
     "execution_count": 10,
     "metadata": {},
     "output_type": "execute_result"
    }
   ],
   "source": [
    "X_train, X_valid, y_train, y_valid = train_test_split(xtrain,y, test_size=0.2, random_state=42)\n",
    "X_train.shape, X_valid.shape, y_train.shape, y_valid.shape"
   ]
  },
  {
   "cell_type": "markdown",
   "metadata": {
    "_uuid": "29ed3c9ad099a565ff1d072bfc5564c08b448bec"
   },
   "source": [
    "# Select model"
   ]
  },
  {
   "cell_type": "code",
   "execution_count": 11,
   "metadata": {
    "_uuid": "322fb2a0cbec03d2afe39fdf9f7c657229008430"
   },
   "outputs": [],
   "source": [
    "#from sklearn.ensemble import RandomForestRegressor"
   ]
  },
  {
   "cell_type": "code",
   "execution_count": 12,
   "metadata": {
    "_uuid": "6ba13c98b8e2e3ce2c0d25abf10db4e5e7cefd4d"
   },
   "outputs": [],
   "source": [
    "#rf_defaut = RandomForestRegressor()\n",
    "# crosse validation pour tester si le model est stable \n",
    "#rf_cv = cross_val_score(rf_defaut, X_train, y_train, cv=5)\n",
    "#rf_cv"
   ]
  },
  {
   "cell_type": "code",
   "execution_count": 13,
   "metadata": {
    "_uuid": "5c7d8eab7fb97035f0e51888eaea191ddd85f62f"
   },
   "outputs": [],
   "source": [
    "#plt.plot(range(1,len(rf_cv)+1), rf_cv)\n",
    "#plt.ylim(np.min(rf_cv)-0.1,np.max(rf_cv)+0.1)\n",
    "#plt.xlabel(\"nombre de fold\")\n",
    "#plt.ylabel(\"score du model Random Forest Regressor\");"
   ]
  },
  {
   "cell_type": "markdown",
   "metadata": {
    "_uuid": "204e55b07935c8e61ae54676148f23eccb4f07c5"
   },
   "source": [
    "> le line chart au-dessus, il nous dit que ce model est stable, c'est à dire, ce model est capable de généraliser"
   ]
  },
  {
   "cell_type": "code",
   "execution_count": 14,
   "metadata": {
    "_uuid": "584f165e3258e18dea1741430e82f9e3746fc0f3"
   },
   "outputs": [],
   "source": [
    "# la fonction permet de nous donner un score qui est le règle de cette compétition\n",
    "# (root mean squared log error)\n",
    "#from sklearn.metrics import mean_squared_log_error, mean_squared_error\n",
    "def rmse(y,pred):\n",
    "    return np.sqrt(np.mean(np.square(np.log(np.exp(y))-np.log(np.exp(pred)))))"
   ]
  },
  {
   "cell_type": "code",
   "execution_count": 15,
   "metadata": {
    "_uuid": "e08601ee77fea3a1335b9549b827c1ea53e52c74"
   },
   "outputs": [],
   "source": [
    "#rf_defaut = RandomForestRegressor()\n",
    "#rf_defaut.fit(X_train, y_train)"
   ]
  },
  {
   "cell_type": "code",
   "execution_count": 16,
   "metadata": {
    "_uuid": "de70a6271918acfec47b41cb81200a5222a6f22d"
   },
   "outputs": [],
   "source": [
    "#y_pred = rf_defaut.predict(X_valid)"
   ]
  },
  {
   "cell_type": "code",
   "execution_count": 17,
   "metadata": {
    "_uuid": "fe6f3643e7b15e40aa47a5ef36dbb63d1a5f2087"
   },
   "outputs": [],
   "source": [
    "#print(rmse(y_valid,y_pred))"
   ]
  },
  {
   "cell_type": "markdown",
   "metadata": {
    "_uuid": "0e0d805f0630e1468cb8bc8f18a6b17f26ac8c01"
   },
   "source": [
    "## Grid search pour optimiser l'algorithme Random Forest"
   ]
  },
  {
   "cell_type": "code",
   "execution_count": 18,
   "metadata": {
    "_uuid": "603ccfae423707e14f876f1727d94465b9d1a982"
   },
   "outputs": [],
   "source": [
    "#from sklearn.model_selection import GridSearchCV"
   ]
  },
  {
   "cell_type": "code",
   "execution_count": 19,
   "metadata": {
    "_uuid": "226240db8d9aee12e5c7ccdbf5b289d97d999509"
   },
   "outputs": [],
   "source": [
    "# n_estimators et max_depth pour fitter bien le model mais causer overfitting\n",
    "# par contre, min_samples_leaf et min_samples_split nous permets de éviter overfitting en donnant la valeur\n",
    "# plus grand\n",
    "#params = {\n",
    "#    'n_estimators' : [10, 15, 20],\n",
    "#    'max_depth': [30, 50, 100],\n",
    "#    'min_samples_leaf': [100],\n",
    "#    'min_samples_split': [150]\n",
    "#}\n",
    "#rf2 = RandomForestRegressor()\n",
    "#gs_rf2 = GridSearchCV(rf2, param_grid=params, scoring='neg_mean_squared_error',cv=3, verbose=10, n_jobs=-1)\n",
    "#gs_rf2.fit(X_train, y_train)\n",
    "#gs_rf2.best_score_\n",
    "#best_rf2 = gs_rf2.best_estimator_"
   ]
  },
  {
   "cell_type": "code",
   "execution_count": 20,
   "metadata": {
    "_uuid": "25fb6991b8395ba63af1818f906a8a6b33755f18"
   },
   "outputs": [],
   "source": [
    "#rf2 = RandomForestRegressor(n_estimators=10,min_samples_leaf=100, min_samples_split=150)"
   ]
  },
  {
   "cell_type": "code",
   "execution_count": 21,
   "metadata": {
    "_uuid": "a6b2c174f90171d880d02562d1e3028c27f84d6f"
   },
   "outputs": [],
   "source": [
    "#rf2_cv = cross_val_score(rf2, X_train, y_train, cv=5)\n",
    "#rf2_cv"
   ]
  },
  {
   "cell_type": "code",
   "execution_count": 22,
   "metadata": {
    "_uuid": "8a124574ce580ad175d7622af25212883b8d1e1a"
   },
   "outputs": [],
   "source": [
    "#plt.plot(range(1,len(rf2_cv)+1), rf2_cv)\n",
    "#plt.ylim(np.min(rf2_cv)-0.1,np.max(rf2_cv)+0.1)\n",
    "#plt.xlabel(\"nombre de fold\")\n",
    "#plt.ylabel(\"score du model Random Forest Regressor avec hyperparameters\");"
   ]
  },
  {
   "cell_type": "code",
   "execution_count": 23,
   "metadata": {
    "_uuid": "830077ac8925b02b01e2b03e633c20592c79a4d4"
   },
   "outputs": [],
   "source": [
    "#rf2.fit(X_train, y_train)"
   ]
  },
  {
   "cell_type": "code",
   "execution_count": 24,
   "metadata": {
    "_uuid": "a83f7f410ab5862c0ddf469c58aeb7c31cc375c3"
   },
   "outputs": [],
   "source": [
    "#pred = rf2.predict(X_valid)"
   ]
  },
  {
   "cell_type": "code",
   "execution_count": 25,
   "metadata": {
    "_uuid": "57a3074cd567d7d4a9932087bc5a68d5c84af0ba"
   },
   "outputs": [],
   "source": [
    "#print(rmse(y_valid,pred))"
   ]
  },
  {
   "cell_type": "markdown",
   "metadata": {
    "_uuid": "52ce170c27aff2956b8b8abf5e570fc11d8392a0"
   },
   "source": [
    "# LightGBM pour prédire trip duration"
   ]
  },
  {
   "cell_type": "code",
   "execution_count": 26,
   "metadata": {
    "_uuid": "68feeb26caa1b52aa543f9f317dc9466a869d596"
   },
   "outputs": [],
   "source": [
    "import lightgbm as lgb"
   ]
  },
  {
   "cell_type": "code",
   "execution_count": 27,
   "metadata": {
    "_uuid": "809c9f3e6babdf468b22eca4a97c1d31aefd77c4"
   },
   "outputs": [],
   "source": [
    "#lgb_train = lgb.Dataset(X_train, y_train)\n",
    "#lgb_valid = lgb.Dataset(X_valid, y_valid)\n",
    "# training all dataset\n",
    "dtrain = lgb.Dataset(xtrain,y)\n",
    "del(X_train, y_train, X_valid, y_valid, xtrain,y)"
   ]
  },
  {
   "cell_type": "code",
   "execution_count": 28,
   "metadata": {
    "_uuid": "c8729e557b114898cda0a9ce516ac50ff75228fd"
   },
   "outputs": [],
   "source": [
    "lgb_params = {\n",
    "    'learning_rate': 0.1,\n",
    "    'max_depth': 8,\n",
    "    'num_leaves': 55, \n",
    "    'objective': 'regression',\n",
    "    #'metric': {'rmse'},\n",
    "    'feature_fraction': 0.9,\n",
    "    'bagging_fraction': 0.5,\n",
    "    #'bagging_freq': 5,\n",
    "    'max_bin': 300}       # 1000"
   ]
  },
  {
   "cell_type": "code",
   "execution_count": 29,
   "metadata": {
    "_uuid": "344a7957b52a918112ae875de0cd0369664c0695"
   },
   "outputs": [],
   "source": [
    "#cv_result_lgb = lgb.cv(lgb_params,\n",
    "#                       lgb_train, \n",
    "#                       num_boost_round=1000, \n",
    "#                       nfold=3,\n",
    "#                       early_stopping_rounds=50, \n",
    "#                       verbose_eval=100, \n",
    "#                       show_stdv=True,stratified=False)"
   ]
  },
  {
   "cell_type": "code",
   "execution_count": 30,
   "metadata": {
    "_uuid": "e2e8dd2855b57006da088caabc493ee18e838a1f"
   },
   "outputs": [],
   "source": [
    "#n_rounds = len(cv_result_lgb['rmsle-mean'])\n",
    "#print('num_boost_rounds_lgb=' + str(n_rounds))"
   ]
  },
  {
   "cell_type": "code",
   "execution_count": 31,
   "metadata": {
    "_uuid": "2e2832c2ab38924325fa93b2e05a0366489889a9"
   },
   "outputs": [],
   "source": [
    "# visualisation des résultat dans cv\n",
    "# CV scores\n",
    "#train_scores = np.array(cv_result_lgb['rmsle-mean'])\n",
    "#train_stds = np.array(cv_result_lgb['rmsle-stdv'])\n",
    "#plt.plot(train_scores, color='violet')\n",
    "#plt.fill_between(range(len(cv_result_lgb['rmsle-mean'])), \n",
    "#                 train_scores - train_stds, train_scores + train_stds, \n",
    "#                 alpha=0.1, color='violet')\n",
    "#plt.title('LightGMB CV-results')\n",
    "#plt.xlabel(\"number of rounds\")\n",
    "#plt.ylabel(\"score\");"
   ]
  },
  {
   "cell_type": "code",
   "execution_count": 32,
   "metadata": {
    "_uuid": "05f323245a06a76c4720bb4425855740e578b8bf"
   },
   "outputs": [],
   "source": [
    "# Train a model\n",
    "#model_lgb = lgb.train(lgb_params, \n",
    "#                      dtrain, \n",
    "#                      feval=lgb_rmsle_score, \n",
    "#                      num_boost_round=n_rounds)"
   ]
  },
  {
   "cell_type": "code",
   "execution_count": 33,
   "metadata": {
    "_uuid": "698d9a4ba4fb63c956d80b906ba5afb87e45f133"
   },
   "outputs": [],
   "source": [
    "## Predict on train\n",
    "#y_train_pred = model_lgb.predict(X_train)\n",
    "#print('RMSLE on train = {}'.format(rmse(y_train_pred, y_train)))\n",
    "## Predict on validation\n",
    "#y_valid_pred = model_lgb.predict(X_valid)\n",
    "#print('RMSLE on valid = {}'.format(rmse(y_valid_pred, y_valid)))"
   ]
  },
  {
   "cell_type": "code",
   "execution_count": 34,
   "metadata": {
    "_uuid": "4acedf606e59a608047c2984f620364156cbf023"
   },
   "outputs": [],
   "source": [
    "# Train a model\n",
    "model_lgb = lgb.train(lgb_params, \n",
    "                      dtrain,\n",
    "                      num_boost_round=1500)"
   ]
  },
  {
   "cell_type": "markdown",
   "metadata": {
    "_uuid": "85a1a4c01d13c079ce250f7e45df385c45999724"
   },
   "source": [
    "# submission on kaggle"
   ]
  },
  {
   "cell_type": "code",
   "execution_count": 35,
   "metadata": {
    "_uuid": "c01b30ad3b4f3bd1a3c03b36e8d6830fdc84e4a1"
   },
   "outputs": [
    {
     "data": {
      "text/html": [
       "<div>\n",
       "<style scoped>\n",
       "    .dataframe tbody tr th:only-of-type {\n",
       "        vertical-align: middle;\n",
       "    }\n",
       "\n",
       "    .dataframe tbody tr th {\n",
       "        vertical-align: top;\n",
       "    }\n",
       "\n",
       "    .dataframe thead th {\n",
       "        text-align: right;\n",
       "    }\n",
       "</style>\n",
       "<table border=\"1\" class=\"dataframe\">\n",
       "  <thead>\n",
       "    <tr style=\"text-align: right;\">\n",
       "      <th></th>\n",
       "      <th>id</th>\n",
       "      <th>trip_duration</th>\n",
       "    </tr>\n",
       "  </thead>\n",
       "  <tbody>\n",
       "    <tr>\n",
       "      <th>0</th>\n",
       "      <td>id3004672</td>\n",
       "      <td>959</td>\n",
       "    </tr>\n",
       "    <tr>\n",
       "      <th>1</th>\n",
       "      <td>id3505355</td>\n",
       "      <td>959</td>\n",
       "    </tr>\n",
       "    <tr>\n",
       "      <th>2</th>\n",
       "      <td>id1217141</td>\n",
       "      <td>959</td>\n",
       "    </tr>\n",
       "    <tr>\n",
       "      <th>3</th>\n",
       "      <td>id2150126</td>\n",
       "      <td>959</td>\n",
       "    </tr>\n",
       "    <tr>\n",
       "      <th>4</th>\n",
       "      <td>id1598245</td>\n",
       "      <td>959</td>\n",
       "    </tr>\n",
       "  </tbody>\n",
       "</table>\n",
       "</div>"
      ],
      "text/plain": [
       "          id  trip_duration\n",
       "0  id3004672            959\n",
       "1  id3505355            959\n",
       "2  id1217141            959\n",
       "3  id2150126            959\n",
       "4  id1598245            959"
      ]
     },
     "execution_count": 35,
     "metadata": {},
     "output_type": "execute_result"
    }
   ],
   "source": [
    "submit = pd.read_csv('../input/nyc-taxi-trip-duration/sample_submission.csv')\n",
    "submit.head()"
   ]
  },
  {
   "cell_type": "code",
   "execution_count": 36,
   "metadata": {
    "_uuid": "0cefff62d9a66063117bbca8c9ec1e97d1eaa053"
   },
   "outputs": [],
   "source": [
    "pred_test = np.exp(model_lgb.predict(xtest))"
   ]
  },
  {
   "cell_type": "code",
   "execution_count": 37,
   "metadata": {
    "_uuid": "5b2c3c6291d9fb51fa6eddb99407109e5e012a68"
   },
   "outputs": [],
   "source": [
    "submit['trip_duration'] = pred_test"
   ]
  },
  {
   "cell_type": "code",
   "execution_count": 38,
   "metadata": {
    "_uuid": "29ce21df3b89121dc3dabd76ff669aebca70b101"
   },
   "outputs": [
    {
     "data": {
      "text/html": [
       "<div>\n",
       "<style scoped>\n",
       "    .dataframe tbody tr th:only-of-type {\n",
       "        vertical-align: middle;\n",
       "    }\n",
       "\n",
       "    .dataframe tbody tr th {\n",
       "        vertical-align: top;\n",
       "    }\n",
       "\n",
       "    .dataframe thead th {\n",
       "        text-align: right;\n",
       "    }\n",
       "</style>\n",
       "<table border=\"1\" class=\"dataframe\">\n",
       "  <thead>\n",
       "    <tr style=\"text-align: right;\">\n",
       "      <th></th>\n",
       "      <th>id</th>\n",
       "      <th>trip_duration</th>\n",
       "    </tr>\n",
       "  </thead>\n",
       "  <tbody>\n",
       "    <tr>\n",
       "      <th>0</th>\n",
       "      <td>id3004672</td>\n",
       "      <td>799.311700</td>\n",
       "    </tr>\n",
       "    <tr>\n",
       "      <th>1</th>\n",
       "      <td>id3505355</td>\n",
       "      <td>651.977997</td>\n",
       "    </tr>\n",
       "    <tr>\n",
       "      <th>2</th>\n",
       "      <td>id1217141</td>\n",
       "      <td>417.724045</td>\n",
       "    </tr>\n",
       "    <tr>\n",
       "      <th>3</th>\n",
       "      <td>id2150126</td>\n",
       "      <td>985.922494</td>\n",
       "    </tr>\n",
       "    <tr>\n",
       "      <th>4</th>\n",
       "      <td>id1598245</td>\n",
       "      <td>354.242444</td>\n",
       "    </tr>\n",
       "  </tbody>\n",
       "</table>\n",
       "</div>"
      ],
      "text/plain": [
       "          id  trip_duration\n",
       "0  id3004672     799.311700\n",
       "1  id3505355     651.977997\n",
       "2  id1217141     417.724045\n",
       "3  id2150126     985.922494\n",
       "4  id1598245     354.242444"
      ]
     },
     "execution_count": 38,
     "metadata": {},
     "output_type": "execute_result"
    }
   ],
   "source": [
    "submit.head()"
   ]
  },
  {
   "cell_type": "code",
   "execution_count": 39,
   "metadata": {
    "_uuid": "b0b3da1286537e5e69f9c3497489bb5be2e3dd02"
   },
   "outputs": [],
   "source": [
    "submit.to_csv(\"submit_file.csv\", index=False)"
   ]
  },
  {
   "cell_type": "code",
   "execution_count": 40,
   "metadata": {
    "_uuid": "ffd5a59ee339d30e1fb7d064caf4218a3a6713e5"
   },
   "outputs": [],
   "source": []
  }
 ],
 "metadata": {
  "kernelspec": {
   "display_name": "Python 3",
   "language": "python",
   "name": "python3"
  },
  "language_info": {
   "codemirror_mode": {
    "name": "ipython",
    "version": 3
   },
   "file_extension": ".py",
   "mimetype": "text/x-python",
   "name": "python",
   "nbconvert_exporter": "python",
   "pygments_lexer": "ipython3",
   "version": "3.6.6"
  }
 },
 "nbformat": 4,
 "nbformat_minor": 1
}
