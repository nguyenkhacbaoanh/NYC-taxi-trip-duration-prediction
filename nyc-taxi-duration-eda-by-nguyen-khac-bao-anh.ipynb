{
 "cells": [
  {
   "cell_type": "code",
   "execution_count": 1,
   "metadata": {
    "_cell_guid": "b1076dfc-b9ad-4769-8c92-a6c4dae69d19",
    "_uuid": "8f2839f25d086af736a60e9eeb907d3b93b6e0e5"
   },
   "outputs": [
    {
     "name": "stdout",
     "output_type": "stream",
     "text": [
      "['knycmetars2016', 'nyc-taxi-trip-duration']\n"
     ]
    }
   ],
   "source": [
    "import numpy as np # linear algebra\n",
    "import pandas as pd # data processing, CSV file I/O (e.g. pd.read_csv)\n",
    "\n",
    "# visualiser les données\n",
    "import matplotlib.pyplot as plt\n",
    "import seaborn as sns\n",
    "# Input data files are available in the \"../input/\" directory.\n",
    "# For example, running this (by clicking run or pressing Shift+Enter) will list the files in the input directory\n",
    "import os\n",
    "print(os.listdir(\"../input\"))\n",
    "from sklearn.preprocessing import LabelEncoder\n",
    "# package geo pour traiter les données coordinates\n",
    "from geopy.geocoders import Nominatim\n",
    "# Any results you write to the current directory are saved as output."
   ]
  },
  {
   "cell_type": "code",
   "execution_count": 2,
   "metadata": {
    "_uuid": "52b64e9c52d61311452db16e9b944eb933dd42e6"
   },
   "outputs": [],
   "source": [
    "%matplotlib inline\n",
    "sns.set({'figure.figsize':(16,8)})"
   ]
  },
  {
   "cell_type": "markdown",
   "metadata": {
    "_cell_guid": "79c7e3d0-c299-4dcb-8224-4455121ee9b0",
    "_uuid": "d629ff2d2480ee46fbb7e2d37f6b5fab8052498a",
    "collapsed": true
   },
   "source": [
    "# Data Loading"
   ]
  },
  {
   "cell_type": "code",
   "execution_count": 3,
   "metadata": {
    "_uuid": "7958f86e205f7a1c7ef5905d8ae95bcd37349ae8"
   },
   "outputs": [],
   "source": [
    "train = pd.read_csv(\"../input/nyc-taxi-trip-duration/train.csv\")\n",
    "test = pd.read_csv(\"../input/nyc-taxi-trip-duration/test.csv\")"
   ]
  },
  {
   "cell_type": "code",
   "execution_count": 4,
   "metadata": {
    "_uuid": "d156370f100b3041de7bce7cd3d4e1a997e485bb"
   },
   "outputs": [
    {
     "name": "stdout",
     "output_type": "stream",
     "text": [
      "shape of training set(1458644, 11)\n",
      "shape of testing set(625134, 9)\n"
     ]
    }
   ],
   "source": [
    "print(f\"shape of training set{train.shape}\")\n",
    "print(f\"shape of testing set{test.shape}\")"
   ]
  },
  {
   "cell_type": "markdown",
   "metadata": {
    "_uuid": "928bd1aff8d791d46678e024b49744786e7322de"
   },
   "source": [
    "1. ### Data Training vs Data testing:"
   ]
  },
  {
   "cell_type": "code",
   "execution_count": 5,
   "metadata": {
    "_uuid": "fcc431efb1edb4974b6b23f9448f53346707c030"
   },
   "outputs": [
    {
     "data": {
      "text/html": [
       "<div>\n",
       "<style scoped>\n",
       "    .dataframe tbody tr th:only-of-type {\n",
       "        vertical-align: middle;\n",
       "    }\n",
       "\n",
       "    .dataframe tbody tr th {\n",
       "        vertical-align: top;\n",
       "    }\n",
       "\n",
       "    .dataframe thead th {\n",
       "        text-align: right;\n",
       "    }\n",
       "</style>\n",
       "<table border=\"1\" class=\"dataframe\">\n",
       "  <thead>\n",
       "    <tr style=\"text-align: right;\">\n",
       "      <th></th>\n",
       "      <th>id</th>\n",
       "      <th>vendor_id</th>\n",
       "      <th>pickup_datetime</th>\n",
       "      <th>dropoff_datetime</th>\n",
       "      <th>passenger_count</th>\n",
       "      <th>pickup_longitude</th>\n",
       "      <th>pickup_latitude</th>\n",
       "      <th>dropoff_longitude</th>\n",
       "      <th>dropoff_latitude</th>\n",
       "      <th>store_and_fwd_flag</th>\n",
       "      <th>trip_duration</th>\n",
       "    </tr>\n",
       "  </thead>\n",
       "  <tbody>\n",
       "    <tr>\n",
       "      <th>0</th>\n",
       "      <td>id2875421</td>\n",
       "      <td>2</td>\n",
       "      <td>2016-03-14 17:24:55</td>\n",
       "      <td>2016-03-14 17:32:30</td>\n",
       "      <td>1</td>\n",
       "      <td>-73.982155</td>\n",
       "      <td>40.767937</td>\n",
       "      <td>-73.964630</td>\n",
       "      <td>40.765602</td>\n",
       "      <td>N</td>\n",
       "      <td>455</td>\n",
       "    </tr>\n",
       "    <tr>\n",
       "      <th>1</th>\n",
       "      <td>id2377394</td>\n",
       "      <td>1</td>\n",
       "      <td>2016-06-12 00:43:35</td>\n",
       "      <td>2016-06-12 00:54:38</td>\n",
       "      <td>1</td>\n",
       "      <td>-73.980415</td>\n",
       "      <td>40.738564</td>\n",
       "      <td>-73.999481</td>\n",
       "      <td>40.731152</td>\n",
       "      <td>N</td>\n",
       "      <td>663</td>\n",
       "    </tr>\n",
       "    <tr>\n",
       "      <th>2</th>\n",
       "      <td>id3858529</td>\n",
       "      <td>2</td>\n",
       "      <td>2016-01-19 11:35:24</td>\n",
       "      <td>2016-01-19 12:10:48</td>\n",
       "      <td>1</td>\n",
       "      <td>-73.979027</td>\n",
       "      <td>40.763939</td>\n",
       "      <td>-74.005333</td>\n",
       "      <td>40.710087</td>\n",
       "      <td>N</td>\n",
       "      <td>2124</td>\n",
       "    </tr>\n",
       "    <tr>\n",
       "      <th>3</th>\n",
       "      <td>id3504673</td>\n",
       "      <td>2</td>\n",
       "      <td>2016-04-06 19:32:31</td>\n",
       "      <td>2016-04-06 19:39:40</td>\n",
       "      <td>1</td>\n",
       "      <td>-74.010040</td>\n",
       "      <td>40.719971</td>\n",
       "      <td>-74.012268</td>\n",
       "      <td>40.706718</td>\n",
       "      <td>N</td>\n",
       "      <td>429</td>\n",
       "    </tr>\n",
       "    <tr>\n",
       "      <th>4</th>\n",
       "      <td>id2181028</td>\n",
       "      <td>2</td>\n",
       "      <td>2016-03-26 13:30:55</td>\n",
       "      <td>2016-03-26 13:38:10</td>\n",
       "      <td>1</td>\n",
       "      <td>-73.973053</td>\n",
       "      <td>40.793209</td>\n",
       "      <td>-73.972923</td>\n",
       "      <td>40.782520</td>\n",
       "      <td>N</td>\n",
       "      <td>435</td>\n",
       "    </tr>\n",
       "  </tbody>\n",
       "</table>\n",
       "</div>"
      ],
      "text/plain": [
       "          id  vendor_id      ...      store_and_fwd_flag trip_duration\n",
       "0  id2875421          2      ...                       N           455\n",
       "1  id2377394          1      ...                       N           663\n",
       "2  id3858529          2      ...                       N          2124\n",
       "3  id3504673          2      ...                       N           429\n",
       "4  id2181028          2      ...                       N           435\n",
       "\n",
       "[5 rows x 11 columns]"
      ]
     },
     "execution_count": 5,
     "metadata": {},
     "output_type": "execute_result"
    }
   ],
   "source": [
    "train.head()"
   ]
  },
  {
   "cell_type": "code",
   "execution_count": 6,
   "metadata": {
    "_uuid": "d4c5569e98ea61ce4f93afd171dd484955c54f75"
   },
   "outputs": [
    {
     "data": {
      "text/html": [
       "<div>\n",
       "<style scoped>\n",
       "    .dataframe tbody tr th:only-of-type {\n",
       "        vertical-align: middle;\n",
       "    }\n",
       "\n",
       "    .dataframe tbody tr th {\n",
       "        vertical-align: top;\n",
       "    }\n",
       "\n",
       "    .dataframe thead th {\n",
       "        text-align: right;\n",
       "    }\n",
       "</style>\n",
       "<table border=\"1\" class=\"dataframe\">\n",
       "  <thead>\n",
       "    <tr style=\"text-align: right;\">\n",
       "      <th></th>\n",
       "      <th>id</th>\n",
       "      <th>vendor_id</th>\n",
       "      <th>pickup_datetime</th>\n",
       "      <th>passenger_count</th>\n",
       "      <th>pickup_longitude</th>\n",
       "      <th>pickup_latitude</th>\n",
       "      <th>dropoff_longitude</th>\n",
       "      <th>dropoff_latitude</th>\n",
       "      <th>store_and_fwd_flag</th>\n",
       "    </tr>\n",
       "  </thead>\n",
       "  <tbody>\n",
       "    <tr>\n",
       "      <th>0</th>\n",
       "      <td>id3004672</td>\n",
       "      <td>1</td>\n",
       "      <td>2016-06-30 23:59:58</td>\n",
       "      <td>1</td>\n",
       "      <td>-73.988129</td>\n",
       "      <td>40.732029</td>\n",
       "      <td>-73.990173</td>\n",
       "      <td>40.756680</td>\n",
       "      <td>N</td>\n",
       "    </tr>\n",
       "    <tr>\n",
       "      <th>1</th>\n",
       "      <td>id3505355</td>\n",
       "      <td>1</td>\n",
       "      <td>2016-06-30 23:59:53</td>\n",
       "      <td>1</td>\n",
       "      <td>-73.964203</td>\n",
       "      <td>40.679993</td>\n",
       "      <td>-73.959808</td>\n",
       "      <td>40.655403</td>\n",
       "      <td>N</td>\n",
       "    </tr>\n",
       "    <tr>\n",
       "      <th>2</th>\n",
       "      <td>id1217141</td>\n",
       "      <td>1</td>\n",
       "      <td>2016-06-30 23:59:47</td>\n",
       "      <td>1</td>\n",
       "      <td>-73.997437</td>\n",
       "      <td>40.737583</td>\n",
       "      <td>-73.986160</td>\n",
       "      <td>40.729523</td>\n",
       "      <td>N</td>\n",
       "    </tr>\n",
       "    <tr>\n",
       "      <th>3</th>\n",
       "      <td>id2150126</td>\n",
       "      <td>2</td>\n",
       "      <td>2016-06-30 23:59:41</td>\n",
       "      <td>1</td>\n",
       "      <td>-73.956070</td>\n",
       "      <td>40.771900</td>\n",
       "      <td>-73.986427</td>\n",
       "      <td>40.730469</td>\n",
       "      <td>N</td>\n",
       "    </tr>\n",
       "    <tr>\n",
       "      <th>4</th>\n",
       "      <td>id1598245</td>\n",
       "      <td>1</td>\n",
       "      <td>2016-06-30 23:59:33</td>\n",
       "      <td>1</td>\n",
       "      <td>-73.970215</td>\n",
       "      <td>40.761475</td>\n",
       "      <td>-73.961510</td>\n",
       "      <td>40.755890</td>\n",
       "      <td>N</td>\n",
       "    </tr>\n",
       "  </tbody>\n",
       "</table>\n",
       "</div>"
      ],
      "text/plain": [
       "          id  vendor_id         ...         dropoff_latitude  store_and_fwd_flag\n",
       "0  id3004672          1         ...                40.756680                   N\n",
       "1  id3505355          1         ...                40.655403                   N\n",
       "2  id1217141          1         ...                40.729523                   N\n",
       "3  id2150126          2         ...                40.730469                   N\n",
       "4  id1598245          1         ...                40.755890                   N\n",
       "\n",
       "[5 rows x 9 columns]"
      ]
     },
     "execution_count": 6,
     "metadata": {},
     "output_type": "execute_result"
    }
   ],
   "source": [
    "test.head()"
   ]
  },
  {
   "cell_type": "code",
   "execution_count": 7,
   "metadata": {
    "_uuid": "9355cd4d98c4c45e7603269d73ee51bc779687e0"
   },
   "outputs": [
    {
     "name": "stdout",
     "output_type": "stream",
     "text": [
      "La différence de la variable entre data training et data testing:{'trip_duration', 'dropoff_datetime'}\n"
     ]
    }
   ],
   "source": [
    "print(f\"La différence de la variable entre data training et data testing:\\\n",
    "{set(train.columns).difference(set(test.columns))}\")"
   ]
  },
  {
   "cell_type": "markdown",
   "metadata": {
    "_uuid": "8d112d658083a2900a3a9cc0692e1500e7700982"
   },
   "source": [
    "# Data preprocessing:"
   ]
  },
  {
   "cell_type": "markdown",
   "metadata": {
    "_uuid": "9bf7c66cf8a7f92141294d130c7fe60f58e8fde9"
   },
   "source": [
    " ### Valeur manquant: "
   ]
  },
  {
   "cell_type": "markdown",
   "metadata": {
    "_uuid": "7dab14389a59260efaed1b9159a5e02aa1df92ef"
   },
   "source": [
    "* dans data training:"
   ]
  },
  {
   "cell_type": "code",
   "execution_count": 8,
   "metadata": {
    "_uuid": "86997a33f650cd790945b30702e68f45dfd23d45"
   },
   "outputs": [
    {
     "name": "stdout",
     "output_type": "stream",
     "text": [
      "id a 0 valeur(s) manquant(s)\n",
      "vendor_id a 0 valeur(s) manquant(s)\n",
      "pickup_datetime a 0 valeur(s) manquant(s)\n",
      "dropoff_datetime a 0 valeur(s) manquant(s)\n",
      "passenger_count a 0 valeur(s) manquant(s)\n",
      "pickup_longitude a 0 valeur(s) manquant(s)\n",
      "pickup_latitude a 0 valeur(s) manquant(s)\n",
      "dropoff_longitude a 0 valeur(s) manquant(s)\n",
      "dropoff_latitude a 0 valeur(s) manquant(s)\n",
      "store_and_fwd_flag a 0 valeur(s) manquant(s)\n",
      "trip_duration a 0 valeur(s) manquant(s)\n"
     ]
    }
   ],
   "source": [
    "for i,v in zip(list(train.isnull().sum().index),list(train.isnull().sum().values)):\n",
    "    print(f\"{i} a {v} valeur(s) manquant(s)\")"
   ]
  },
  {
   "cell_type": "markdown",
   "metadata": {
    "_uuid": "abd731b77301a53f6fb9fec8a1f72e1214874c13"
   },
   "source": [
    "* Dans data testing"
   ]
  },
  {
   "cell_type": "code",
   "execution_count": 9,
   "metadata": {
    "_uuid": "3a5d4463a3e8628318bf9f8df35e5e6259a88dd7"
   },
   "outputs": [
    {
     "name": "stdout",
     "output_type": "stream",
     "text": [
      "id a 0 valeur(s) manquant(s)\n",
      "vendor_id a 0 valeur(s) manquant(s)\n",
      "pickup_datetime a 0 valeur(s) manquant(s)\n",
      "passenger_count a 0 valeur(s) manquant(s)\n",
      "pickup_longitude a 0 valeur(s) manquant(s)\n",
      "pickup_latitude a 0 valeur(s) manquant(s)\n",
      "dropoff_longitude a 0 valeur(s) manquant(s)\n",
      "dropoff_latitude a 0 valeur(s) manquant(s)\n",
      "store_and_fwd_flag a 0 valeur(s) manquant(s)\n"
     ]
    }
   ],
   "source": [
    "for i,v in zip(list(test.isnull().sum().index),list(test.isnull().sum().values)):\n",
    "    print(f\"{i} a {v} valeur(s) manquant(s)\")"
   ]
  },
  {
   "cell_type": "markdown",
   "metadata": {
    "_uuid": "41a0f0d90476f159bada4e0bc1a060966fff0729"
   },
   "source": [
    "### Data duplicated"
   ]
  },
  {
   "cell_type": "code",
   "execution_count": 10,
   "metadata": {
    "_uuid": "0c451d6f6708ac01b4597a13622596b3e9313c6c"
   },
   "outputs": [
    {
     "name": "stdout",
     "output_type": "stream",
     "text": [
      "Il y a 0 données duplicates dans le train\n"
     ]
    }
   ],
   "source": [
    "print(f\"Il y a {train.duplicated().sum()} données duplicates dans le train\")"
   ]
  },
  {
   "cell_type": "code",
   "execution_count": 11,
   "metadata": {
    "_uuid": "7e0fdf810a1965e863b7cf78a822f3e8557d1941"
   },
   "outputs": [
    {
     "name": "stdout",
     "output_type": "stream",
     "text": [
      "Il y a 0 données duplicates dans le test\n"
     ]
    }
   ],
   "source": [
    "print(f\"Il y a {test.duplicated().sum()} données duplicates dans le test\")"
   ]
  },
  {
   "cell_type": "markdown",
   "metadata": {
    "_uuid": "4fe57ee6e6e3df89a5195904ff657209fb4cd734"
   },
   "source": [
    "### Analyst descriptive"
   ]
  },
  {
   "cell_type": "code",
   "execution_count": 12,
   "metadata": {
    "_uuid": "b956f83e9fad50e865167d5e230b04aa62a733b7"
   },
   "outputs": [
    {
     "data": {
      "text/html": [
       "<div>\n",
       "<style scoped>\n",
       "    .dataframe tbody tr th:only-of-type {\n",
       "        vertical-align: middle;\n",
       "    }\n",
       "\n",
       "    .dataframe tbody tr th {\n",
       "        vertical-align: top;\n",
       "    }\n",
       "\n",
       "    .dataframe thead th {\n",
       "        text-align: right;\n",
       "    }\n",
       "</style>\n",
       "<table border=\"1\" class=\"dataframe\">\n",
       "  <thead>\n",
       "    <tr style=\"text-align: right;\">\n",
       "      <th></th>\n",
       "      <th>count</th>\n",
       "      <th>mean</th>\n",
       "      <th>std</th>\n",
       "      <th>min</th>\n",
       "      <th>25%</th>\n",
       "      <th>50%</th>\n",
       "      <th>75%</th>\n",
       "      <th>max</th>\n",
       "    </tr>\n",
       "  </thead>\n",
       "  <tbody>\n",
       "    <tr>\n",
       "      <th>vendor_id</th>\n",
       "      <td>1458644.0</td>\n",
       "      <td>1.534950</td>\n",
       "      <td>0.498777</td>\n",
       "      <td>1.000000</td>\n",
       "      <td>1.000000</td>\n",
       "      <td>2.000000</td>\n",
       "      <td>2.000000</td>\n",
       "      <td>2.000000e+00</td>\n",
       "    </tr>\n",
       "    <tr>\n",
       "      <th>passenger_count</th>\n",
       "      <td>1458644.0</td>\n",
       "      <td>1.664530</td>\n",
       "      <td>1.314242</td>\n",
       "      <td>0.000000</td>\n",
       "      <td>1.000000</td>\n",
       "      <td>1.000000</td>\n",
       "      <td>2.000000</td>\n",
       "      <td>9.000000e+00</td>\n",
       "    </tr>\n",
       "    <tr>\n",
       "      <th>pickup_longitude</th>\n",
       "      <td>1458644.0</td>\n",
       "      <td>-73.973486</td>\n",
       "      <td>0.070902</td>\n",
       "      <td>-121.933342</td>\n",
       "      <td>-73.991867</td>\n",
       "      <td>-73.981743</td>\n",
       "      <td>-73.967331</td>\n",
       "      <td>-6.133553e+01</td>\n",
       "    </tr>\n",
       "    <tr>\n",
       "      <th>pickup_latitude</th>\n",
       "      <td>1458644.0</td>\n",
       "      <td>40.750921</td>\n",
       "      <td>0.032881</td>\n",
       "      <td>34.359695</td>\n",
       "      <td>40.737347</td>\n",
       "      <td>40.754101</td>\n",
       "      <td>40.768360</td>\n",
       "      <td>5.188108e+01</td>\n",
       "    </tr>\n",
       "    <tr>\n",
       "      <th>dropoff_longitude</th>\n",
       "      <td>1458644.0</td>\n",
       "      <td>-73.973416</td>\n",
       "      <td>0.070643</td>\n",
       "      <td>-121.933304</td>\n",
       "      <td>-73.991325</td>\n",
       "      <td>-73.979752</td>\n",
       "      <td>-73.963013</td>\n",
       "      <td>-6.133553e+01</td>\n",
       "    </tr>\n",
       "    <tr>\n",
       "      <th>dropoff_latitude</th>\n",
       "      <td>1458644.0</td>\n",
       "      <td>40.751800</td>\n",
       "      <td>0.035891</td>\n",
       "      <td>32.181141</td>\n",
       "      <td>40.735885</td>\n",
       "      <td>40.754524</td>\n",
       "      <td>40.769810</td>\n",
       "      <td>4.392103e+01</td>\n",
       "    </tr>\n",
       "    <tr>\n",
       "      <th>trip_duration</th>\n",
       "      <td>1458644.0</td>\n",
       "      <td>959.492273</td>\n",
       "      <td>5237.431724</td>\n",
       "      <td>1.000000</td>\n",
       "      <td>397.000000</td>\n",
       "      <td>662.000000</td>\n",
       "      <td>1075.000000</td>\n",
       "      <td>3.526282e+06</td>\n",
       "    </tr>\n",
       "  </tbody>\n",
       "</table>\n",
       "</div>"
      ],
      "text/plain": [
       "                       count      ...                max\n",
       "vendor_id          1458644.0      ...       2.000000e+00\n",
       "passenger_count    1458644.0      ...       9.000000e+00\n",
       "pickup_longitude   1458644.0      ...      -6.133553e+01\n",
       "pickup_latitude    1458644.0      ...       5.188108e+01\n",
       "dropoff_longitude  1458644.0      ...      -6.133553e+01\n",
       "dropoff_latitude   1458644.0      ...       4.392103e+01\n",
       "trip_duration      1458644.0      ...       3.526282e+06\n",
       "\n",
       "[7 rows x 8 columns]"
      ]
     },
     "execution_count": 12,
     "metadata": {},
     "output_type": "execute_result"
    }
   ],
   "source": [
    "train.describe().T"
   ]
  },
  {
   "cell_type": "code",
   "execution_count": 13,
   "metadata": {
    "_uuid": "0a01632c344046e65276053f21b9a4dbf14689a3"
   },
   "outputs": [
    {
     "name": "stdout",
     "output_type": "stream",
     "text": [
      "<class 'pandas.core.frame.DataFrame'>\n",
      "RangeIndex: 1458644 entries, 0 to 1458643\n",
      "Data columns (total 11 columns):\n",
      "id                    1458644 non-null object\n",
      "vendor_id             1458644 non-null int64\n",
      "pickup_datetime       1458644 non-null object\n",
      "dropoff_datetime      1458644 non-null object\n",
      "passenger_count       1458644 non-null int64\n",
      "pickup_longitude      1458644 non-null float64\n",
      "pickup_latitude       1458644 non-null float64\n",
      "dropoff_longitude     1458644 non-null float64\n",
      "dropoff_latitude      1458644 non-null float64\n",
      "store_and_fwd_flag    1458644 non-null object\n",
      "trip_duration         1458644 non-null int64\n",
      "dtypes: float64(4), int64(3), object(4)\n",
      "memory usage: 122.4+ MB\n"
     ]
    }
   ],
   "source": [
    "train.info()"
   ]
  },
  {
   "cell_type": "markdown",
   "metadata": {
    "_uuid": "88477de7afe0b87e9c73ae788606e2eb6dfd0f56"
   },
   "source": [
    "> Note: La data contient\n",
    "-  1 varibale en type chaîne de caractère:`id`\n",
    "- 2 variable en type date: `pickup_datetime`, `dropoff_datetime`\n",
    "- 2 varible en type catégorie: `vendor_id`, `store_and_fwd_flag`\n",
    "- 1 varible en type nombre continue: `trip_duration`\n",
    "- 1 variable en type nombre nominal: `passenger_count`\n",
    "- 4 variable en type coordinate: `pickup_longitude`, `pickup_latitude`, `dropoff_longitude`, `dropoff_latitude`"
   ]
  },
  {
   "cell_type": "code",
   "execution_count": 14,
   "metadata": {
    "_uuid": "75cc92491882f38b5710da0a4309ede93fcc6acf"
   },
   "outputs": [
    {
     "name": "stdout",
     "output_type": "stream",
     "text": [
      "vendor_id ont 2 valeur: [2, 1]\n"
     ]
    }
   ],
   "source": [
    "print(f\"vendor_id ont {len(train.vendor_id.unique())} valeur: {list(train.vendor_id.unique())}\")"
   ]
  },
  {
   "cell_type": "code",
   "execution_count": 15,
   "metadata": {
    "_uuid": "bdcec3f48c1aa95d2c37e27b8d5559a7818364dc"
   },
   "outputs": [
    {
     "name": "stdout",
     "output_type": "stream",
     "text": [
      "store_and_fwd_flag ont 2 valeur: ['N', 'Y']\n"
     ]
    }
   ],
   "source": [
    "print(f\"store_and_fwd_flag ont {len(train.store_and_fwd_flag.unique())} \\\n",
    "valeur: {list(train.store_and_fwd_flag.unique())}\")"
   ]
  },
  {
   "cell_type": "code",
   "execution_count": 16,
   "metadata": {
    "_uuid": "e3463eac93badad31be9a10a6b9473924b9fbfd4"
   },
   "outputs": [
    {
     "name": "stdout",
     "output_type": "stream",
     "text": [
      "passenger_count ont 10 valeur: [0, 1, 2, 3, 4, 5, 6, 7, 8, 9]\n"
     ]
    }
   ],
   "source": [
    "print(f\"passenger_count ont {len(train.passenger_count.unique())} \\\n",
    "valeur: {sorted(list(train.passenger_count.unique()))}\")"
   ]
  },
  {
   "cell_type": "markdown",
   "metadata": {
    "_uuid": "1fc0cf3ccc3c08b55d28f1929eee0550862b2c71"
   },
   "source": [
    "# Data Exploration"
   ]
  },
  {
   "cell_type": "markdown",
   "metadata": {
    "_uuid": "4008f6d619ec1d21987f939bc8e262d0a70ce4f6"
   },
   "source": [
    "## trip_duration distribution"
   ]
  },
  {
   "cell_type": "code",
   "execution_count": 17,
   "metadata": {
    "_uuid": "f00cb44008aff7a5b1345d06ca82b255483abf9a"
   },
   "outputs": [
    {
     "data": {
      "image/png": "[encoded data removed]",
      "text/plain": [
       "<Figure size 1152x576 with 1 Axes>"
      ]
     },
     "metadata": {},
     "output_type": "display_data"
    }
   ],
   "source": [
    "train.trip_duration.hist();"
   ]
  },
  {
   "cell_type": "markdown",
   "metadata": {
    "_uuid": "c27c331bc9d4397d0215a4e210d1af6f32b487b8"
   },
   "source": [
    "> Note: il nous semble que `trip_duration` contient certains valeur volumineux par rapport aux majorité de données"
   ]
  },
  {
   "cell_type": "code",
   "execution_count": 18,
   "metadata": {
    "_uuid": "2a6b23f8582efa0dc38be2a9bc43be5276a2b73d"
   },
   "outputs": [
    {
     "data": {
      "text/plain": [
       "2567"
      ]
     },
     "execution_count": 18,
     "metadata": {},
     "output_type": "execute_result"
    }
   ],
   "source": [
    "len(train.trip_duration[train.trip_duration>6000].values)"
   ]
  },
  {
   "cell_type": "markdown",
   "metadata": {
    "_uuid": "ec2fffde92fbbfb5ba33c55ada22ae6c0e566f5e"
   },
   "source": [
    "- Il y a 2567 trip qui ont durés plus de 6000 seconde (une heure et demi)"
   ]
  },
  {
   "cell_type": "code",
   "execution_count": 19,
   "metadata": {
    "_uuid": "80917a741dcfd7f8264983f6b4170f38f45b7787"
   },
   "outputs": [
    {
     "data": {
      "image/png": "[encoded data removed]",
      "text/plain": [
       "<Figure size 1152x576 with 1 Axes>"
      ]
     },
     "metadata": {},
     "output_type": "display_data"
    }
   ],
   "source": [
    "train.loc[train.trip_duration<6000,\"trip_duration\"].hist(bins=100)\n",
    "plt.title(\"distribution de trip duration sans les oulieurs\");"
   ]
  },
  {
   "cell_type": "markdown",
   "metadata": {
    "_uuid": "99cff7c125fb2d32f3515e57fec11ad92a145ae9"
   },
   "source": [
    "> Note: ça resemble la distribution log-normal"
   ]
  },
  {
   "cell_type": "code",
   "execution_count": 20,
   "metadata": {
    "_uuid": "9c491b1181a7fff6cebfb25336d21b15b9d45f8d"
   },
   "outputs": [
    {
     "data": {
      "image/png": "[encoded data removed]",
      "text/plain": [
       "<Figure size 1152x576 with 1 Axes>"
      ]
     },
     "metadata": {},
     "output_type": "display_data"
    }
   ],
   "source": [
    "plt.hist(np.log(train.trip_duration), bins=1000, edgecolor='red');"
   ]
  },
  {
   "cell_type": "markdown",
   "metadata": {
    "_uuid": "4190e1f5c93782d37906c59f7138d279e63a90c0"
   },
   "source": [
    "la log- transformation de `trip_duration` resemble normal distribution"
   ]
  },
  {
   "cell_type": "code",
   "execution_count": 21,
   "metadata": {
    "_uuid": "3079f1c6eb0084fa76a4e1b2fc5c61886e00be65"
   },
   "outputs": [],
   "source": [
    "train['log_trip_duration'] = np.log(train['trip_duration'])"
   ]
  },
  {
   "cell_type": "markdown",
   "metadata": {
    "_uuid": "c58db00924dd66fb17ad4caec9765bf1845c1cff"
   },
   "source": [
    "## Distribution de trip duration par rapport aux types de vendor"
   ]
  },
  {
   "cell_type": "code",
   "execution_count": 22,
   "metadata": {
    "_uuid": "b0c098bd2ee280ea161afff7665f64923ede6195"
   },
   "outputs": [
    {
     "data": {
      "image/png": "[encoded data removed]",
      "text/plain": [
       "<Figure size 1152x576 with 1 Axes>"
      ]
     },
     "metadata": {},
     "output_type": "display_data"
    }
   ],
   "source": [
    "plt.hist(train.loc[train.vendor_id==1, 'log_trip_duration'], bins=100, edgecolor='red')\n",
    "plt.hist(train.loc[train.vendor_id==2, 'log_trip_duration'], bins=100, edgecolor='violet')\n",
    "plt.xlabel(\"trip duration\")\n",
    "plt.ylabel(\"frequency\")\n",
    "plt.legend(['vendor_id=1', 'vendor_id=2']);"
   ]
  },
  {
   "cell_type": "markdown",
   "metadata": {
    "_uuid": "823ebf56cca18a57d88c0d608c93844b0c757bf7"
   },
   "source": [
    "> vendor 1 a plus de `trip_duration`que vendor 2"
   ]
  },
  {
   "cell_type": "markdown",
   "metadata": {
    "_uuid": "c07738e6b9d55407ace4d13b74adafaf6eb98322"
   },
   "source": [
    "## passerger_count vs trip duration"
   ]
  },
  {
   "cell_type": "code",
   "execution_count": 23,
   "metadata": {
    "_uuid": "366378865601b1b1e672279c8157ffdf01cdcbe5"
   },
   "outputs": [
    {
     "data": {
      "image/png": "[encoded data removed]",
      "text/plain": [
       "<Figure size 1152x576 with 1 Axes>"
      ]
     },
     "metadata": {},
     "output_type": "display_data"
    }
   ],
   "source": [
    "train.groupby(['vendor_id','passenger_count'])['trip_duration'].agg('mean').unstack(level=0).plot()\n",
    "plt.ylabel(\"trip duration average\")\n",
    "plt.xlabel(\"nombre de passenger\")\n",
    "plt.title(\"Trip duration by number of passenger on each vendor\");"
   ]
  },
  {
   "cell_type": "markdown",
   "metadata": {
    "_uuid": "efceead61be1b31ada3fba941d8c97a139170155"
   },
   "source": [
    "> En moyenne: de 1 passenger à 6 passengers les deux vendors sont stables au niveau de trip duration\n",
    "\n",
    "> un remarque: même s'il n'y a pas de passenger, le trip duration de vendor 2 a 50 mn, de vendor 1 a 6 mn\n",
    "\n",
    "> vendor 1 a maximum 6 passengers, vendor 2 a plus de 6 mais le trip duration sont inférieur de 10 mn"
   ]
  },
  {
   "cell_type": "code",
   "execution_count": 24,
   "metadata": {
    "_uuid": "79bb5e05601ba5cc248c590827e3ed2b8b2157e4"
   },
   "outputs": [
    {
     "data": {
      "text/html": [
       "<div>\n",
       "<style scoped>\n",
       "    .dataframe tbody tr th:only-of-type {\n",
       "        vertical-align: middle;\n",
       "    }\n",
       "\n",
       "    .dataframe tbody tr th {\n",
       "        vertical-align: top;\n",
       "    }\n",
       "\n",
       "    .dataframe thead th {\n",
       "        text-align: right;\n",
       "    }\n",
       "</style>\n",
       "<table border=\"1\" class=\"dataframe\">\n",
       "  <thead>\n",
       "    <tr style=\"text-align: right;\">\n",
       "      <th></th>\n",
       "      <th>pickup_longitude</th>\n",
       "      <th>pickup_latitude</th>\n",
       "      <th>dropoff_longitude</th>\n",
       "      <th>dropoff_latitude</th>\n",
       "    </tr>\n",
       "  </thead>\n",
       "  <tbody>\n",
       "    <tr>\n",
       "      <th>0</th>\n",
       "      <td>-73.982155</td>\n",
       "      <td>40.767937</td>\n",
       "      <td>-73.964630</td>\n",
       "      <td>40.765602</td>\n",
       "    </tr>\n",
       "    <tr>\n",
       "      <th>1</th>\n",
       "      <td>-73.980415</td>\n",
       "      <td>40.738564</td>\n",
       "      <td>-73.999481</td>\n",
       "      <td>40.731152</td>\n",
       "    </tr>\n",
       "    <tr>\n",
       "      <th>2</th>\n",
       "      <td>-73.979027</td>\n",
       "      <td>40.763939</td>\n",
       "      <td>-74.005333</td>\n",
       "      <td>40.710087</td>\n",
       "    </tr>\n",
       "    <tr>\n",
       "      <th>3</th>\n",
       "      <td>-74.010040</td>\n",
       "      <td>40.719971</td>\n",
       "      <td>-74.012268</td>\n",
       "      <td>40.706718</td>\n",
       "    </tr>\n",
       "    <tr>\n",
       "      <th>4</th>\n",
       "      <td>-73.973053</td>\n",
       "      <td>40.793209</td>\n",
       "      <td>-73.972923</td>\n",
       "      <td>40.782520</td>\n",
       "    </tr>\n",
       "  </tbody>\n",
       "</table>\n",
       "</div>"
      ],
      "text/plain": [
       "   pickup_longitude        ...         dropoff_latitude\n",
       "0        -73.982155        ...                40.765602\n",
       "1        -73.980415        ...                40.731152\n",
       "2        -73.979027        ...                40.710087\n",
       "3        -74.010040        ...                40.706718\n",
       "4        -73.973053        ...                40.782520\n",
       "\n",
       "[5 rows x 4 columns]"
      ]
     },
     "execution_count": 24,
     "metadata": {},
     "output_type": "execute_result"
    }
   ],
   "source": [
    "train[['pickup_longitude', 'pickup_latitude','dropoff_longitude', 'dropoff_latitude']].head()"
   ]
  },
  {
   "cell_type": "code",
   "execution_count": 25,
   "metadata": {
    "_uuid": "b126bf10723584aa797638c1f811961aad427dc7"
   },
   "outputs": [
    {
     "data": {
      "image/png": "[encoded data removed]",
      "text/plain": [
       "<Figure size 1152x576 with 2 Axes>"
      ]
     },
     "metadata": {},
     "output_type": "display_data"
    }
   ],
   "source": [
    "fig,ax = plt.subplots(2,1)\n",
    "sns.scatterplot(x='pickup_longitude', y='pickup_latitude',data=train,ax=ax[0])\n",
    "plt.ylim([31,53]);\n",
    "sns.scatterplot(x='dropoff_longitude', y='dropoff_latitude',data=train,ax=ax[1])\n",
    "plt.ylim([31,53]);"
   ]
  },
  {
   "cell_type": "markdown",
   "metadata": {
    "_uuid": "8dfa6052176be332fbc560bd512c540a50bda85b"
   },
   "source": [
    "> On a vu que la majorité des trajets est concentré au longitude: -74 latitude: 42"
   ]
  },
  {
   "cell_type": "markdown",
   "metadata": {
    "_uuid": "298b5e603c4cd73a4e5f3229ddddb8cbd1692d31"
   },
   "source": [
    "# Features engineering"
   ]
  },
  {
   "cell_type": "markdown",
   "metadata": {
    "_uuid": "f122007734ea4840c4298afe9ddfd5076049ba54"
   },
   "source": [
    "## 1.Features extraction"
   ]
  },
  {
   "cell_type": "markdown",
   "metadata": {
    "_uuid": "10ce5ee818f0f109ed8826a282b7004a2c824efb"
   },
   "source": [
    "- Converter `store_and_fwd_flag` en chiffres"
   ]
  },
  {
   "cell_type": "code",
   "execution_count": 26,
   "metadata": {
    "_uuid": "559279cf49d67ad5d5e10c0e97a62d29bfee7f6a"
   },
   "outputs": [],
   "source": [
    "le = LabelEncoder()\n",
    "le.fit(train['store_and_fwd_flag'])\n",
    "train['store_and_fwd_flag'] = le.transform(train['store_and_fwd_flag'])\n",
    "test['store_and_fwd_flag'] = le.transform(test['store_and_fwd_flag'])"
   ]
  },
  {
   "cell_type": "markdown",
   "metadata": {
    "_uuid": "6ac8068f409dd868abf86932e79693b821419e4b"
   },
   "source": [
    "## - Pour les dates:"
   ]
  },
  {
   "cell_type": "code",
   "execution_count": 27,
   "metadata": {
    "_uuid": "af89023f3d35276a0cdabd4909246f7db6a0f29d"
   },
   "outputs": [],
   "source": [
    "train['pickup_datetime'] = pd.to_datetime(train.pickup_datetime)\n",
    "train['month'] = train['pickup_datetime'].dt.month\n",
    "train['day'] = train['pickup_datetime'].dt.day\n",
    "train['dayofweek'] = train['pickup_datetime'].dt.dayofweek\n",
    "train['weekday'] = train['pickup_datetime'].dt.weekday\n",
    "train['hour'] = train['pickup_datetime'].dt.hour\n",
    "train['minute'] = train['pickup_datetime'].dt.minute\n",
    "#train['dropoff_datetime'] = pd.to_datetime(train.dropoff_datetime)"
   ]
  },
  {
   "cell_type": "markdown",
   "metadata": {
    "_uuid": "b827cce432d4bf983985185f053e0af1521d72c2"
   },
   "source": [
    "> Note: trip_duration est calculé par la différence entre pickup_datetime et dropoff_datetime"
   ]
  },
  {
   "cell_type": "code",
   "execution_count": 28,
   "metadata": {
    "_uuid": "07d7811c5421d2912679516325f80b18dcbeb016"
   },
   "outputs": [],
   "source": [
    "# petite verification\n",
    "#train['check_trip_duration'] = (train['dropoff_datetime'] - train['pickup_datetime'])\\\n",
    "#                                    .map(lambda x: x.total_seconds())\n",
    "#print(f\"il y a {sum(train['check_trip_duration'] != train.trip_duration)} ligne(s) ne pas correspondre\")"
   ]
  },
  {
   "cell_type": "code",
   "execution_count": 29,
   "metadata": {
    "_uuid": "41690fe2f523b98fe2388368e45ae506badedc6a"
   },
   "outputs": [
    {
     "data": {
      "image/png": "[encoded data removed]",
      "text/plain": [
       "<Figure size 1152x576 with 1 Axes>"
      ]
     },
     "metadata": {},
     "output_type": "display_data"
    }
   ],
   "source": [
    "train.groupby(['vendor_id','dayofweek'])['trip_duration'].agg(\"mean\").unstack(level=0).plot()\n",
    "plt.xlabel(\"Journé dans la semaine (lundi=0, dimanche=6)\")\n",
    "plt.ylabel(\"Trip duration moyenne\");"
   ]
  },
  {
   "cell_type": "markdown",
   "metadata": {
    "_uuid": "842c9a6b548e07e559280df70d7585ecef71a30e"
   },
   "source": [
    "> Dans la semaine, le vendor 2 a la moyenne de trip duration plus de vendor 1\n",
    "\n",
    "> Jeudi et Vendredi contienne de longue trajet pour le vendor 2, pour le vendor 1 est le mardi et jeudi"
   ]
  },
  {
   "cell_type": "code",
   "execution_count": 30,
   "metadata": {
    "_uuid": "d4eaba5214491829489c4d795c749966c59549a9"
   },
   "outputs": [
    {
     "data": {
      "image/png": "[encoded data removed]",
      "text/plain": [
       "<Figure size 1152x576 with 1 Axes>"
      ]
     },
     "metadata": {},
     "output_type": "display_data"
    }
   ],
   "source": [
    "train.groupby(['vendor_id','hour'])['trip_duration'].agg(\"mean\").unstack(level=0).plot()\n",
    "plt.xlabel(\"L'heure dans la journée\")\n",
    "plt.ylabel(\"Trip duration moyenne\");"
   ]
  },
  {
   "cell_type": "markdown",
   "metadata": {
    "_uuid": "ae37e9bfbf9e7bc0ceee793e22af97851b1aa694"
   },
   "source": [
    "> De 6h du matin à 15h l'aprè midi, trip duration est augmenté"
   ]
  },
  {
   "cell_type": "markdown",
   "metadata": {
    "_uuid": "9d45d9df544bcd4f656daac4eece44a8f4f467b3"
   },
   "source": [
    "## - Pour la distance:"
   ]
  },
  {
   "cell_type": "code",
   "execution_count": 31,
   "metadata": {
    "_uuid": "5ee8633e642f5ed4e175d56d4be6075507b47e3c"
   },
   "outputs": [],
   "source": [
    "train['dist_long'] = train['pickup_longitude'] - train['dropoff_longitude']\n",
    "\n",
    "train['dist_lat'] = train['pickup_latitude'] - train['dropoff_latitude']\n",
    "\n",
    "train['dist'] = np.sqrt(np.square(train['dist_long']) + np.square(train['dist_lat']))"
   ]
  },
  {
   "cell_type": "code",
   "execution_count": 32,
   "metadata": {
    "_uuid": "053c518a813f1ea2b4f3af03cedf0f2b97ebe552"
   },
   "outputs": [],
   "source": [
    "#### spatial features: count and speed\n",
    "train['pickup_longitude_bin'] = np.round(train['pickup_longitude'], 2)\n",
    "train['pickup_latitude_bin'] = np.round(train['pickup_latitude'], 2)\n",
    "train['dropoff_longitude_bin'] = np.round(train['dropoff_longitude'], 2)\n",
    "train['dropoff_latitude_bin'] = np.round(train['dropoff_latitude'], 2)"
   ]
  },
  {
   "cell_type": "markdown",
   "metadata": {
    "_uuid": "7ec6f916525fd75f988027bd8c97c73a736dea2f"
   },
   "source": [
    "## Data ingeneering on data test"
   ]
  },
  {
   "cell_type": "code",
   "execution_count": 33,
   "metadata": {
    "_uuid": "60f5f303d710f801526a4fb9f1de8868961aabc1"
   },
   "outputs": [],
   "source": [
    "test['pickup_datetime'] = pd.to_datetime(test.pickup_datetime)\n",
    "test['month'] = test['pickup_datetime'].dt.month\n",
    "test['day'] = test['pickup_datetime'].dt.day\n",
    "test['dayofweek'] = test['pickup_datetime'].dt.dayofweek\n",
    "test['weekday'] = test['pickup_datetime'].dt.weekday\n",
    "test['hour'] = test['pickup_datetime'].dt.hour\n",
    "test['minute'] = test['pickup_datetime'].dt.minute"
   ]
  },
  {
   "cell_type": "code",
   "execution_count": 34,
   "metadata": {
    "_uuid": "5c239f6ac6c3e63f6b0e46ef62eb85bff4a70626"
   },
   "outputs": [],
   "source": [
    "test['dist_long'] = test['pickup_longitude'] - test['dropoff_longitude']\n",
    "test['dist_lat'] = test['pickup_latitude'] - test['dropoff_latitude']\n",
    "test['dist'] = np.sqrt(np.square(test['dist_long']) + np.square(test['dist_lat']))"
   ]
  },
  {
   "cell_type": "code",
   "execution_count": 35,
   "metadata": {
    "_uuid": "50c8b8f14e8fbc2f1bb1b820020f222c4c420084"
   },
   "outputs": [],
   "source": [
    "test['pickup_longitude_bin'] = np.round(test['pickup_longitude'], 2)\n",
    "test['pickup_latitude_bin'] = np.round(test['pickup_latitude'], 2)\n",
    "test['dropoff_longitude_bin'] = np.round(test['dropoff_longitude'], 2)\n",
    "test['dropoff_latitude_bin'] = np.round(test['dropoff_latitude'], 2)"
   ]
  },
  {
   "cell_type": "code",
   "execution_count": 36,
   "metadata": {
    "_uuid": "aff8b47443807c3d3b9bc01909da65471a7c51cb"
   },
   "outputs": [
    {
     "name": "stderr",
     "output_type": "stream",
     "text": [
      "/opt/conda/lib/python3.6/site-packages/ipykernel_launcher.py:2: FutureWarning: Sorting because non-concatenation axis is not aligned. A future version\n",
      "of pandas will change to not sort by default.\n",
      "\n",
      "To accept the future behavior, pass 'sort=False'.\n",
      "\n",
      "To retain the current behavior and silence the warning, pass 'sort=True'.\n",
      "\n",
      "  \n",
      "/opt/conda/lib/python3.6/site-packages/ipykernel_launcher.py:3: FutureWarning: Sorting because non-concatenation axis is not aligned. A future version\n",
      "of pandas will change to not sort by default.\n",
      "\n",
      "To accept the future behavior, pass 'sort=False'.\n",
      "\n",
      "To retain the current behavior and silence the warning, pass 'sort=True'.\n",
      "\n",
      "  This is separate from the ipykernel package so we can avoid doing imports until\n"
     ]
    }
   ],
   "source": [
    "## count features\n",
    "a = pd.concat([train,test]).groupby(['pickup_longitude_bin', 'pickup_latitude_bin']).size().reset_index()\n",
    "b = pd.concat([train,test]).groupby(['dropoff_longitude_bin', 'dropoff_latitude_bin']).size().reset_index()\n",
    "\n",
    "train = pd.merge(train, a, on = ['pickup_longitude_bin', 'pickup_latitude_bin'], how = 'left')\n",
    "test = pd.merge(test, a, on = ['pickup_longitude_bin', 'pickup_latitude_bin'], how = 'left')\n",
    "\n",
    "train = pd.merge(train, b, on = ['dropoff_longitude_bin', 'dropoff_latitude_bin'], how = 'left')\n",
    "test = pd.merge(test, b, on = ['dropoff_longitude_bin', 'dropoff_latitude_bin'], how = 'left')\n",
    "\n",
    "## speed features\n",
    "train['speed'] = 100000*train['dist'] / train['trip_duration']\n",
    "\n",
    "a = train[['speed', 'pickup_longitude_bin', 'pickup_latitude_bin']].groupby(['pickup_longitude_bin', 'pickup_latitude_bin']).mean().reset_index()\n",
    "a = a.rename(columns = {'speed': 'ave_speed'})\n",
    "b = train[['speed', 'dropoff_longitude_bin', 'dropoff_latitude_bin']].groupby(['dropoff_longitude_bin', 'dropoff_latitude_bin']).mean().reset_index()\n",
    "b = b.rename(columns = {'speed': 'ave_speed'})\n",
    "\n",
    "train = pd.merge(train, a, on = ['pickup_longitude_bin', 'pickup_latitude_bin'], how = 'left')\n",
    "test = pd.merge(test, a, on = ['pickup_longitude_bin', 'pickup_latitude_bin'], how = 'left')\n",
    "\n",
    "train = pd.merge(train, b, on = ['dropoff_longitude_bin', 'dropoff_latitude_bin'], how = 'left')\n",
    "test = pd.merge(test, b, on = ['dropoff_longitude_bin', 'dropoff_latitude_bin'], how = 'left')\n",
    "\n",
    "## drop bins\n",
    "train = train.drop(['speed', 'pickup_longitude_bin', 'pickup_latitude_bin', 'dropoff_longitude_bin', 'dropoff_latitude_bin'], axis = 1)\n",
    "test = test.drop(['pickup_longitude_bin', 'pickup_latitude_bin', 'dropoff_longitude_bin', 'dropoff_latitude_bin'], axis = 1)"
   ]
  },
  {
   "cell_type": "code",
   "execution_count": 37,
   "metadata": {
    "_uuid": "ff3bdf8711b7a2f2a33de2c66e3ef353e8363854"
   },
   "outputs": [],
   "source": [
    "#### weather data\n",
    "weather = pd.read_csv('../input/knycmetars2016/KNYC_Metars.csv')\n",
    "weather['Time'] = pd.to_datetime(weather['Time'])\n",
    "weather['year'] = weather['Time'].dt.year\n",
    "weather['month'] = weather['Time'].dt.month\n",
    "weather['day'] = weather['Time'].dt.day\n",
    "weather['hour'] = weather['Time'].dt.hour\n",
    "weather = weather[weather['year'] == 2016]\n",
    "\n",
    "train = pd.merge(train, weather[['Temp.', 'month', 'day', 'hour']], on = ['month', 'day', 'hour'], how = 'left')\n",
    "test = pd.merge(test, weather[['Temp.', 'month', 'day', 'hour']], on = ['month', 'day', 'hour'], how = 'left')"
   ]
  },
  {
   "cell_type": "code",
   "execution_count": 38,
   "metadata": {
    "_uuid": "8ee9114d1ef6bc70554db19547f08c111f7c9d32"
   },
   "outputs": [],
   "source": [
    "# export data training and data testing\n",
    "train.to_csv(\"training_data.csv\", index=False)\n",
    "test.to_csv(\"testing_data.csv\", index=False)"
   ]
  },
  {
   "cell_type": "code",
   "execution_count": 39,
   "metadata": {
    "_uuid": "f37178d3fec0d23db4affbc642a1afbc1c38115c"
   },
   "outputs": [
    {
     "name": "stdout",
     "output_type": "stream",
     "text": [
      "La différence de la variable entre data training et data testing:{'trip_duration', 'log_trip_duration', 'dropoff_datetime'}\n"
     ]
    }
   ],
   "source": [
    "col_diff = list(set(train.columns).difference(set(test.columns)))\n",
    "print(f\"La différence de la variable entre data training et data testing:\\\n",
    "{set(train.columns).difference(set(test.columns))}\")"
   ]
  },
  {
   "cell_type": "code",
   "execution_count": 40,
   "metadata": {
    "_uuid": "ffd5a59ee339d30e1fb7d064caf4218a3a6713e5"
   },
   "outputs": [],
   "source": []
  }
 ],
 "metadata": {
  "kernelspec": {
   "display_name": "Python 3",
   "language": "python",
   "name": "python3"
  },
  "language_info": {
   "codemirror_mode": {
    "name": "ipython",
    "version": 3
   },
   "file_extension": ".py",
   "mimetype": "text/x-python",
   "name": "python",
   "nbconvert_exporter": "python",
   "pygments_lexer": "ipython3",
   "version": "3.6.6"
  }
 },
 "nbformat": 4,
 "nbformat_minor": 1
}
