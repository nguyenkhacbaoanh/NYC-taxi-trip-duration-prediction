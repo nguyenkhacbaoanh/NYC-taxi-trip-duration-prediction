{
  "nbformat": 4,
  "nbformat_minor": 0,
  "metadata": {
    "colab": {
      "name": "Taxi-trip-duration.ipynb",
      "version": "0.3.2",
      "provenance": [],
      "toc_visible": true
    },
    "kernelspec": {
      "name": "python3",
      "display_name": "Python 3"
    },
    "accelerator": "GPU"
  },
  "cells": [
    {
      "metadata": {
        "id": "Xwv0TSTwJu9k",
        "colab_type": "text"
      },
      "cell_type": "markdown",
      "source": [
        "## Import module and installation package"
      ]
    },
    {
      "metadata": {
        "id": "3niTJoyfS6gF",
        "colab_type": "code",
        "colab": {}
      },
      "cell_type": "code",
      "source": [
        "import numpy as np\n",
        "import pandas as pd"
      ],
      "execution_count": 0,
      "outputs": []
    },
    {
      "metadata": {
        "id": "0df99kXWWtt-",
        "colab_type": "code",
        "outputId": "4ba2e93e-3609-477c-f172-3847eeab5088",
        "colab": {
          "base_uri": "https://localhost:8080/",
          "height": 35
        }
      },
      "cell_type": "code",
      "source": [
        "from googleapiclient.discovery import build\n",
        "import io, os\n",
        "from googleapiclient.http import MediaIoBaseDownload\n",
        "from google.colab import auth\n",
        "\n",
        "auth.authenticate_user()\n",
        "\n",
        "drive_service = build('drive', 'v3')\n",
        "# be sure your API key file json copied to your drive google\n",
        "results = drive_service.files().list(q=\"name = 'kaggle.json'\", fields=\"files(id)\").execute()\n",
        "kaggle_api_key = results.get('files', [])\n",
        "\n",
        "filename = \"/root/.kaggle/kaggle.json\"\n",
        "os.makedirs(os.path.dirname(filename), exist_ok=True)\n",
        "\n",
        "request = drive_service.files().get_media(fileId=kaggle_api_key[0]['id'])\n",
        "fh = io.FileIO(filename, 'wb')\n",
        "downloader = MediaIoBaseDownload(fh, request)\n",
        "done = False\n",
        "while done is False:\n",
        "    status, done = downloader.next_chunk()\n",
        "    print(\"Download %d%%.\" %int(status.progress()*100))\n",
        "\n",
        "os.chmod(filename, 600)"
      ],
      "execution_count": 0,
      "outputs": [
        {
          "output_type": "stream",
          "text": [
            "Download 100%.\n"
          ],
          "name": "stdout"
        }
      ]
    },
    {
      "metadata": {
        "id": "oQcc2vKuVm3x",
        "colab_type": "code",
        "outputId": "faedaff0-0212-43da-eee4-c725e4c2f893",
        "colab": {
          "base_uri": "https://localhost:8080/",
          "height": 361
        }
      },
      "cell_type": "code",
      "source": [
        "!pip install kaggle;\n",
        "!pip install lightgbm;\n",
        "!pip install xgboost;"
      ],
      "execution_count": 0,
      "outputs": [
        {
          "output_type": "stream",
          "text": [
            "Requirement already satisfied: kaggle in /usr/local/lib/python3.6/dist-packages (1.5.3)\n",
            "Requirement already satisfied: urllib3<1.25,>=1.21.1 in /usr/local/lib/python3.6/dist-packages (from kaggle) (1.22)\n",
            "Requirement already satisfied: six>=1.10 in /usr/local/lib/python3.6/dist-packages (from kaggle) (1.11.0)\n",
            "Requirement already satisfied: certifi in /usr/local/lib/python3.6/dist-packages (from kaggle) (2018.11.29)\n",
            "Requirement already satisfied: python-dateutil in /usr/local/lib/python3.6/dist-packages (from kaggle) (2.5.3)\n",
            "Requirement already satisfied: requests in /usr/local/lib/python3.6/dist-packages (from kaggle) (2.18.4)\n",
            "Requirement already satisfied: tqdm in /usr/local/lib/python3.6/dist-packages (from kaggle) (4.28.1)\n",
            "Requirement already satisfied: python-slugify in /usr/local/lib/python3.6/dist-packages (from kaggle) (2.0.1)\n",
            "Requirement already satisfied: chardet<3.1.0,>=3.0.2 in /usr/local/lib/python3.6/dist-packages (from requests->kaggle) (3.0.4)\n",
            "Requirement already satisfied: idna<2.7,>=2.5 in /usr/local/lib/python3.6/dist-packages (from requests->kaggle) (2.6)\n",
            "Requirement already satisfied: Unidecode>=0.04.16 in /usr/local/lib/python3.6/dist-packages (from python-slugify->kaggle) (1.0.23)\n",
            "Requirement already satisfied: lightgbm in /usr/local/lib/python3.6/dist-packages (2.2.3)\n",
            "Requirement already satisfied: numpy in /usr/local/lib/python3.6/dist-packages (from lightgbm) (1.14.6)\n",
            "Requirement already satisfied: scikit-learn in /usr/local/lib/python3.6/dist-packages (from lightgbm) (0.20.2)\n",
            "Requirement already satisfied: scipy in /usr/local/lib/python3.6/dist-packages (from lightgbm) (1.1.0)\n",
            "Requirement already satisfied: xgboost in /usr/local/lib/python3.6/dist-packages (0.7.post4)\n",
            "Requirement already satisfied: numpy in /usr/local/lib/python3.6/dist-packages (from xgboost) (1.14.6)\n",
            "Requirement already satisfied: scipy in /usr/local/lib/python3.6/dist-packages (from xgboost) (1.1.0)\n"
          ],
          "name": "stdout"
        }
      ]
    },
    {
      "metadata": {
        "id": "pIZKxSzZZ0Lr",
        "colab_type": "code",
        "colab": {}
      },
      "cell_type": "code",
      "source": [
        "from scipy import stats\n",
        "from scipy.stats import norm, skew\n",
        "from sklearn.preprocessing import power_transform"
      ],
      "execution_count": 0,
      "outputs": []
    },
    {
      "metadata": {
        "id": "aXanLoDpav1L",
        "colab_type": "code",
        "colab": {}
      },
      "cell_type": "code",
      "source": [
        "import matplotlib.pyplot as plt\n",
        "import seaborn as sns\n",
        "sns.set_style(\"darkgrid\")"
      ],
      "execution_count": 0,
      "outputs": []
    },
    {
      "metadata": {
        "id": "3bNchcb8LrSA",
        "colab_type": "code",
        "colab": {}
      },
      "cell_type": "code",
      "source": [
        "import lightgbm as lgb\n",
        "import xgboost as xgb"
      ],
      "execution_count": 0,
      "outputs": []
    },
    {
      "metadata": {
        "id": "lk9MI_W2dFRE",
        "colab_type": "code",
        "colab": {}
      },
      "cell_type": "code",
      "source": [
        "from sklearn.tree import DecisionTreeRegressor, ExtraTreeRegressor\n",
        "from sklearn.linear_model import ElasticNet, Lasso, Ridge, SGDRegressor\n",
        "from sklearn.ensemble import AdaBoostRegressor, BaggingRegressor, ExtraTreesRegressor, GradientBoostingRegressor, RandomForestRegressor\n"
      ],
      "execution_count": 0,
      "outputs": []
    },
    {
      "metadata": {
        "id": "P4NtBrumGbFI",
        "colab_type": "code",
        "outputId": "33aed5cb-204e-4ba4-ca38-b1c61809f40a",
        "colab": {
          "base_uri": "https://localhost:8080/",
          "height": 71
        }
      },
      "cell_type": "code",
      "source": [
        "# download output file from kernel\n",
        "!kaggle kernels output nyc-taxi-duration-eda-by-nguyen-khac-bao-anh"
      ],
      "execution_count": 0,
      "outputs": [
        {
          "output_type": "stream",
          "text": [
            "Output file downloaded to /content/testing_data.csv\n",
            "Output file downloaded to /content/training_data.csv\n",
            "Kernel log downloaded to /content/nyc-taxi-duration-eda-by-nguyen-khac-bao-anh.log \n"
          ],
          "name": "stdout"
        }
      ]
    },
    {
      "metadata": {
        "id": "O7ejHsa4J6hT",
        "colab_type": "text"
      },
      "cell_type": "markdown",
      "source": [
        "## Data reading"
      ]
    },
    {
      "metadata": {
        "id": "u8G35xggI4UT",
        "colab_type": "code",
        "colab": {}
      },
      "cell_type": "code",
      "source": [
        "## read data\n",
        "train = pd.read_csv('training_data.csv')\n",
        "test = pd.read_csv('testing_data.csv')"
      ],
      "execution_count": 0,
      "outputs": []
    },
    {
      "metadata": {
        "id": "L-3qFhbGlikw",
        "colab_type": "code",
        "outputId": "382faa26-afde-4c51-9413-b747875147ba",
        "colab": {
          "base_uri": "https://localhost:8080/",
          "height": 35
        }
      },
      "cell_type": "code",
      "source": [
        "col_have_nan = list(set(train.columns[train.isna().sum() != 0]).union(set(test.columns[test.isna().sum() != 0])))\n",
        "col_have_nan"
      ],
      "execution_count": 0,
      "outputs": [
        {
          "output_type": "execute_result",
          "data": {
            "text/plain": [
              "['ave_speed_x', 'Temp.', 'ave_speed_y']"
            ]
          },
          "metadata": {
            "tags": []
          },
          "execution_count": 104
        }
      ]
    },
    {
      "metadata": {
        "id": "Js9BJnTDmuRi",
        "colab_type": "code",
        "colab": {}
      },
      "cell_type": "code",
      "source": [
        "for c in col_have_nan:\n",
        "    train[c].fillna(train[c].mean(), inplace=True)\n",
        "    test[c].fillna(train[c].mean(), inplace=True)"
      ],
      "execution_count": 0,
      "outputs": []
    },
    {
      "metadata": {
        "id": "wA6OvEXNYalT",
        "colab_type": "code",
        "colab": {}
      },
      "cell_type": "code",
      "source": [
        "xtrain = train.drop(['id', 'pickup_datetime', 'dropoff_datetime', 'trip_duration', 'log_trip_duration'], axis=1)\n",
        "xtest = test.drop(['id', 'pickup_datetime'], axis=1)\n",
        "y = train.log_trip_duration.values\n",
        "id_test = test.id.values"
      ],
      "execution_count": 0,
      "outputs": []
    },
    {
      "metadata": {
        "id": "eGee5n2PZoa7",
        "colab_type": "code",
        "outputId": "fa8b17fb-d03e-4d6e-8291-21b4a544b793",
        "colab": {
          "base_uri": "https://localhost:8080/",
          "height": 35
        }
      },
      "cell_type": "code",
      "source": [
        "xtrain.shape, xtest.shape"
      ],
      "execution_count": 0,
      "outputs": [
        {
          "output_type": "execute_result",
          "data": {
            "text/plain": [
              "((1458644, 21), (625134, 21))"
            ]
          },
          "metadata": {
            "tags": []
          },
          "execution_count": 111
        }
      ]
    },
    {
      "metadata": {
        "id": "wFj_0sNlZE9u",
        "colab_type": "text"
      },
      "cell_type": "markdown",
      "source": [
        "#### Setup for all data like cox-box transform"
      ]
    },
    {
      "metadata": {
        "id": "aYzvKvZGZWwy",
        "colab_type": "code",
        "outputId": "f3558f4c-d237-491c-b9c6-a635b7df8e66",
        "colab": {
          "base_uri": "https://localhost:8080/",
          "height": 35
        }
      },
      "cell_type": "code",
      "source": [
        "#ntrain = train.shape[0]\n",
        "#ntest = test.shape[0]\n",
        "#id_test = test.id.values\n",
        "#y = train.log_trip_duration.values\n",
        "#all_data = pd.concat([train, test])\n",
        "#all_data.drop(['id', 'pickup_datetime', 'dropoff_datetime', 'trip_duration', 'log_trip_duration'], axis=1, inplace=True)\n",
        "#del(train, test)\n",
        "#print(\"all_data size is : {}\".format(all_data.shape))"
      ],
      "execution_count": 0,
      "outputs": [
        {
          "output_type": "stream",
          "text": [
            "all_data size is : (2083778, 21)\n"
          ],
          "name": "stdout"
        }
      ]
    },
    {
      "metadata": {
        "id": "lPO6zKXPbAnQ",
        "colab_type": "code",
        "outputId": "014fb91c-b7f8-453f-e95b-051e65425c9d",
        "colab": {
          "base_uri": "https://localhost:8080/",
          "height": 253
        }
      },
      "cell_type": "code",
      "source": [
        "#all_data.head()"
      ],
      "execution_count": 0,
      "outputs": [
        {
          "output_type": "execute_result",
          "data": {
            "text/html": [
              "<div>\n",
              "<style scoped>\n",
              "    .dataframe tbody tr th:only-of-type {\n",
              "        vertical-align: middle;\n",
              "    }\n",
              "\n",
              "    .dataframe tbody tr th {\n",
              "        vertical-align: top;\n",
              "    }\n",
              "\n",
              "    .dataframe thead th {\n",
              "        text-align: right;\n",
              "    }\n",
              "</style>\n",
              "<table border=\"1\" class=\"dataframe\">\n",
              "  <thead>\n",
              "    <tr style=\"text-align: right;\">\n",
              "      <th></th>\n",
              "      <th>0_x</th>\n",
              "      <th>0_y</th>\n",
              "      <th>Temp.</th>\n",
              "      <th>ave_speed_x</th>\n",
              "      <th>ave_speed_y</th>\n",
              "      <th>day</th>\n",
              "      <th>dayofweek</th>\n",
              "      <th>dist</th>\n",
              "      <th>dist_lat</th>\n",
              "      <th>dist_long</th>\n",
              "      <th>...</th>\n",
              "      <th>dropoff_longitude</th>\n",
              "      <th>hour</th>\n",
              "      <th>minute</th>\n",
              "      <th>month</th>\n",
              "      <th>passenger_count</th>\n",
              "      <th>pickup_latitude</th>\n",
              "      <th>pickup_longitude</th>\n",
              "      <th>store_and_fwd_flag</th>\n",
              "      <th>vendor_id</th>\n",
              "      <th>weekday</th>\n",
              "    </tr>\n",
              "  </thead>\n",
              "  <tbody>\n",
              "    <tr>\n",
              "      <th>0</th>\n",
              "      <td>68221</td>\n",
              "      <td>72764</td>\n",
              "      <td>4.4</td>\n",
              "      <td>3.610834</td>\n",
              "      <td>3.898475</td>\n",
              "      <td>14</td>\n",
              "      <td>0</td>\n",
              "      <td>0.017680</td>\n",
              "      <td>0.002335</td>\n",
              "      <td>-0.017525</td>\n",
              "      <td>...</td>\n",
              "      <td>-73.964630</td>\n",
              "      <td>17</td>\n",
              "      <td>24</td>\n",
              "      <td>3</td>\n",
              "      <td>1</td>\n",
              "      <td>40.767937</td>\n",
              "      <td>-73.982155</td>\n",
              "      <td>0</td>\n",
              "      <td>2</td>\n",
              "      <td>0</td>\n",
              "    </tr>\n",
              "    <tr>\n",
              "      <th>1</th>\n",
              "      <td>59478</td>\n",
              "      <td>51890</td>\n",
              "      <td>28.9</td>\n",
              "      <td>3.855183</td>\n",
              "      <td>3.548049</td>\n",
              "      <td>12</td>\n",
              "      <td>6</td>\n",
              "      <td>0.020456</td>\n",
              "      <td>0.007412</td>\n",
              "      <td>0.019066</td>\n",
              "      <td>...</td>\n",
              "      <td>-73.999481</td>\n",
              "      <td>0</td>\n",
              "      <td>43</td>\n",
              "      <td>6</td>\n",
              "      <td>1</td>\n",
              "      <td>40.738564</td>\n",
              "      <td>-73.980415</td>\n",
              "      <td>0</td>\n",
              "      <td>1</td>\n",
              "      <td>6</td>\n",
              "    </tr>\n",
              "    <tr>\n",
              "      <th>2</th>\n",
              "      <td>111200</td>\n",
              "      <td>38071</td>\n",
              "      <td>-6.7</td>\n",
              "      <td>3.474121</td>\n",
              "      <td>4.320430</td>\n",
              "      <td>19</td>\n",
              "      <td>1</td>\n",
              "      <td>0.059934</td>\n",
              "      <td>0.053852</td>\n",
              "      <td>0.026306</td>\n",
              "      <td>...</td>\n",
              "      <td>-74.005333</td>\n",
              "      <td>11</td>\n",
              "      <td>35</td>\n",
              "      <td>1</td>\n",
              "      <td>1</td>\n",
              "      <td>40.763939</td>\n",
              "      <td>-73.979027</td>\n",
              "      <td>0</td>\n",
              "      <td>2</td>\n",
              "      <td>1</td>\n",
              "    </tr>\n",
              "    <tr>\n",
              "      <th>3</th>\n",
              "      <td>29991</td>\n",
              "      <td>38071</td>\n",
              "      <td>7.2</td>\n",
              "      <td>4.085823</td>\n",
              "      <td>4.320430</td>\n",
              "      <td>6</td>\n",
              "      <td>2</td>\n",
              "      <td>0.013438</td>\n",
              "      <td>0.013252</td>\n",
              "      <td>0.002228</td>\n",
              "      <td>...</td>\n",
              "      <td>-74.012268</td>\n",
              "      <td>19</td>\n",
              "      <td>32</td>\n",
              "      <td>4</td>\n",
              "      <td>1</td>\n",
              "      <td>40.719971</td>\n",
              "      <td>-74.010040</td>\n",
              "      <td>0</td>\n",
              "      <td>2</td>\n",
              "      <td>2</td>\n",
              "    </tr>\n",
              "    <tr>\n",
              "      <th>4</th>\n",
              "      <td>36415</td>\n",
              "      <td>11401</td>\n",
              "      <td>9.4</td>\n",
              "      <td>4.407767</td>\n",
              "      <td>4.054702</td>\n",
              "      <td>26</td>\n",
              "      <td>5</td>\n",
              "      <td>0.010690</td>\n",
              "      <td>0.010689</td>\n",
              "      <td>-0.000130</td>\n",
              "      <td>...</td>\n",
              "      <td>-73.972923</td>\n",
              "      <td>13</td>\n",
              "      <td>30</td>\n",
              "      <td>3</td>\n",
              "      <td>1</td>\n",
              "      <td>40.793209</td>\n",
              "      <td>-73.973053</td>\n",
              "      <td>0</td>\n",
              "      <td>2</td>\n",
              "      <td>5</td>\n",
              "    </tr>\n",
              "  </tbody>\n",
              "</table>\n",
              "<p>5 rows × 21 columns</p>\n",
              "</div>"
            ],
            "text/plain": [
              "      0_x    0_y  Temp.  ave_speed_x  ave_speed_y  day  dayofweek      dist  \\\n",
              "0   68221  72764    4.4     3.610834     3.898475   14          0  0.017680   \n",
              "1   59478  51890   28.9     3.855183     3.548049   12          6  0.020456   \n",
              "2  111200  38071   -6.7     3.474121     4.320430   19          1  0.059934   \n",
              "3   29991  38071    7.2     4.085823     4.320430    6          2  0.013438   \n",
              "4   36415  11401    9.4     4.407767     4.054702   26          5  0.010690   \n",
              "\n",
              "   dist_lat  dist_long   ...     dropoff_longitude  hour  minute  month  \\\n",
              "0  0.002335  -0.017525   ...            -73.964630    17      24      3   \n",
              "1  0.007412   0.019066   ...            -73.999481     0      43      6   \n",
              "2  0.053852   0.026306   ...            -74.005333    11      35      1   \n",
              "3  0.013252   0.002228   ...            -74.012268    19      32      4   \n",
              "4  0.010689  -0.000130   ...            -73.972923    13      30      3   \n",
              "\n",
              "   passenger_count  pickup_latitude  pickup_longitude  store_and_fwd_flag  \\\n",
              "0                1        40.767937        -73.982155                   0   \n",
              "1                1        40.738564        -73.980415                   0   \n",
              "2                1        40.763939        -73.979027                   0   \n",
              "3                1        40.719971        -74.010040                   0   \n",
              "4                1        40.793209        -73.973053                   0   \n",
              "\n",
              "   vendor_id  weekday  \n",
              "0          2        0  \n",
              "1          1        6  \n",
              "2          2        1  \n",
              "3          2        2  \n",
              "4          2        5  \n",
              "\n",
              "[5 rows x 21 columns]"
            ]
          },
          "metadata": {
            "tags": []
          },
          "execution_count": 60
        }
      ]
    },
    {
      "metadata": {
        "id": "s-i5RDWbR9e_",
        "colab_type": "text"
      },
      "cell_type": "markdown",
      "source": [
        "#### Analysis target: trip_duration"
      ]
    },
    {
      "metadata": {
        "id": "jEl1-Q6IT7LL",
        "colab_type": "text"
      },
      "cell_type": "markdown",
      "source": [
        "#### Trip duration"
      ]
    },
    {
      "metadata": {
        "id": "xm6S3NdOdJfG",
        "colab_type": "code",
        "colab": {}
      },
      "cell_type": "code",
      "source": [
        "Y_transform = train.trip_duration.values"
      ],
      "execution_count": 0,
      "outputs": []
    },
    {
      "metadata": {
        "id": "3ZQb2KuNSIYx",
        "colab_type": "code",
        "outputId": "d57fdd6a-2538-4ccd-cb54-8973cf9ed5a1",
        "colab": {
          "base_uri": "https://localhost:8080/",
          "height": 829
        }
      },
      "cell_type": "code",
      "source": [
        "sns.distplot(Y_transform , fit=norm);\n",
        "\n",
        "# Get the fitted parameters used by the function\n",
        "(mu, sigma) = norm.fit(Y_transform)\n",
        "print( '\\n mu = {:.2f} and sigma = {:.2f}\\n'.format(mu, sigma))\n",
        "\n",
        "#Now plot the distribution\n",
        "plt.legend(['Normal dist. ($\\mu=$ {:.2f} and $\\sigma=$ {:.2f} )'.format(mu, sigma)],\n",
        "            loc='best')\n",
        "plt.ylabel('Frequency')\n",
        "plt.title('Trip duration distribution')\n",
        "\n",
        "#Get also the QQ-plot\n",
        "fig = plt.figure()\n",
        "res = stats.probplot(Y_transform, plot=plt)\n",
        "plt.show()"
      ],
      "execution_count": 0,
      "outputs": [
        {
          "output_type": "stream",
          "text": [
            "/usr/local/lib/python3.6/dist-packages/matplotlib/axes/_axes.py:6521: MatplotlibDeprecationWarning: \n",
            "The 'normed' kwarg was deprecated in Matplotlib 2.1 and will be removed in 3.1. Use 'density' instead.\n",
            "  alternative=\"'density'\", removal=\"3.1\")\n"
          ],
          "name": "stderr"
        },
        {
          "output_type": "stream",
          "text": [
            "\n",
            " mu = 959.49 and sigma = 5237.43\n",
            "\n"
          ],
          "name": "stdout"
        },
        {
          "output_type": "display_data",
          "data": {
            "image/png": "[encoded data removed]",
            "text/plain": [
              "<Figure size 576x396 with 1 Axes>"
            ]
          },
          "metadata": {
            "tags": []
          }
        },
        {
          "output_type": "display_data",
          "data": {
            "image/png": "[encoded data removed]",
            "text/plain": [
              "<Figure size 576x396 with 1 Axes>"
            ]
          },
          "metadata": {
            "tags": []
          }
        }
      ]
    },
    {
      "metadata": {
        "id": "2zbMX4v3SIiX",
        "colab_type": "text"
      },
      "cell_type": "markdown",
      "source": [
        "#### Trip duration in log transform"
      ]
    },
    {
      "metadata": {
        "id": "5B8AzkfCUJkw",
        "colab_type": "code",
        "outputId": "8457f4a5-d008-464e-f5a4-1add3e0250cb",
        "colab": {
          "base_uri": "https://localhost:8080/",
          "height": 829
        }
      },
      "cell_type": "code",
      "source": [
        "Y_transform = train['log_trip_duration'].values\n",
        "sns.distplot(Y_transform , fit=norm);\n",
        "\n",
        "# Get the fitted parameters used by the function\n",
        "(mu, sigma) = norm.fit(Y_transform)\n",
        "print( '\\n mu = {:.2f} and sigma = {:.2f}\\n'.format(mu, sigma))\n",
        "\n",
        "#Now plot the distribution\n",
        "plt.legend(['Normal dist. ($\\mu=$ {:.2f} and $\\sigma=$ {:.2f} )'.format(mu, sigma)],\n",
        "            loc='best')\n",
        "plt.ylabel('Frequency')\n",
        "plt.title('Trip duration distribution')\n",
        "\n",
        "#Get also the QQ-plot\n",
        "fig = plt.figure()\n",
        "res = stats.probplot(Y_transform, plot=plt)\n",
        "plt.show()"
      ],
      "execution_count": 0,
      "outputs": [
        {
          "output_type": "stream",
          "text": [
            "/usr/local/lib/python3.6/dist-packages/matplotlib/axes/_axes.py:6521: MatplotlibDeprecationWarning: \n",
            "The 'normed' kwarg was deprecated in Matplotlib 2.1 and will be removed in 3.1. Use 'density' instead.\n",
            "  alternative=\"'density'\", removal=\"3.1\")\n"
          ],
          "name": "stderr"
        },
        {
          "output_type": "stream",
          "text": [
            "\n",
            " mu = 6.46 and sigma = 0.80\n",
            "\n"
          ],
          "name": "stdout"
        },
        {
          "output_type": "display_data",
          "data": {
            "image/png": "[encoded data removed]",
            "text/plain": [
              "<Figure size 576x396 with 1 Axes>"
            ]
          },
          "metadata": {
            "tags": []
          }
        },
        {
          "output_type": "display_data",
          "data": {
            "image/png": "[encoded data removed]",
            "text/plain": [
              "<Figure size 576x396 with 1 Axes>"
            ]
          },
          "metadata": {
            "tags": []
          }
        }
      ]
    },
    {
      "metadata": {
        "id": "gLxmoX9BdTdX",
        "colab_type": "text"
      },
      "cell_type": "markdown",
      "source": [
        "#### Test skew of features"
      ]
    },
    {
      "metadata": {
        "id": "p8ms-q_CVfPS",
        "colab_type": "code",
        "outputId": "ef824b38-ec16-4c3e-99fb-e659696b7df8",
        "colab": {
          "base_uri": "https://localhost:8080/",
          "height": 754
        }
      },
      "cell_type": "code",
      "source": [
        "numeric_feats = all_data.dtypes[all_data.dtypes != \"object\"].index\n",
        "\n",
        "# Check the skew of all numerical features\n",
        "skewed_feats = all_data[numeric_feats].apply(lambda x: skew(x.dropna())).sort_values(ascending=False)\n",
        "print(\"\\nSkew in numerical features: \\n\")\n",
        "skewness = pd.DataFrame({'Skew' :skewed_feats})\n",
        "skewness"
      ],
      "execution_count": 0,
      "outputs": [
        {
          "output_type": "stream",
          "text": [
            "\n",
            "Skew in numerical features: \n",
            "\n"
          ],
          "name": "stdout"
        },
        {
          "output_type": "execute_result",
          "data": {
            "text/html": [
              "<div>\n",
              "<style scoped>\n",
              "    .dataframe tbody tr th:only-of-type {\n",
              "        vertical-align: middle;\n",
              "    }\n",
              "\n",
              "    .dataframe tbody tr th {\n",
              "        vertical-align: top;\n",
              "    }\n",
              "\n",
              "    .dataframe thead th {\n",
              "        text-align: right;\n",
              "    }\n",
              "</style>\n",
              "<table border=\"1\" class=\"dataframe\">\n",
              "  <thead>\n",
              "    <tr style=\"text-align: right;\">\n",
              "      <th></th>\n",
              "      <th>Skew</th>\n",
              "    </tr>\n",
              "  </thead>\n",
              "  <tbody>\n",
              "    <tr>\n",
              "      <th>ave_speed_x</th>\n",
              "      <td>580.420795</td>\n",
              "    </tr>\n",
              "    <tr>\n",
              "      <th>ave_speed_y</th>\n",
              "      <td>469.961762</td>\n",
              "    </tr>\n",
              "    <tr>\n",
              "      <th>dist</th>\n",
              "      <td>26.288577</td>\n",
              "    </tr>\n",
              "    <tr>\n",
              "      <th>store_and_fwd_flag</th>\n",
              "      <td>13.364071</td>\n",
              "    </tr>\n",
              "    <tr>\n",
              "      <th>dist_lat</th>\n",
              "      <td>8.370125</td>\n",
              "    </tr>\n",
              "    <tr>\n",
              "      <th>dist_long</th>\n",
              "      <td>5.257774</td>\n",
              "    </tr>\n",
              "    <tr>\n",
              "      <th>pickup_latitude</th>\n",
              "      <td>2.131394</td>\n",
              "    </tr>\n",
              "    <tr>\n",
              "      <th>passenger_count</th>\n",
              "      <td>2.130139</td>\n",
              "    </tr>\n",
              "    <tr>\n",
              "      <th>0_y</th>\n",
              "      <td>0.320090</td>\n",
              "    </tr>\n",
              "    <tr>\n",
              "      <th>0_x</th>\n",
              "      <td>0.244715</td>\n",
              "    </tr>\n",
              "    <tr>\n",
              "      <th>day</th>\n",
              "      <td>0.040479</td>\n",
              "    </tr>\n",
              "    <tr>\n",
              "      <th>minute</th>\n",
              "      <td>-0.008029</td>\n",
              "    </tr>\n",
              "    <tr>\n",
              "      <th>Temp.</th>\n",
              "      <td>-0.013163</td>\n",
              "    </tr>\n",
              "    <tr>\n",
              "      <th>month</th>\n",
              "      <td>-0.015893</td>\n",
              "    </tr>\n",
              "    <tr>\n",
              "      <th>weekday</th>\n",
              "      <td>-0.042597</td>\n",
              "    </tr>\n",
              "    <tr>\n",
              "      <th>dayofweek</th>\n",
              "      <td>-0.042597</td>\n",
              "    </tr>\n",
              "    <tr>\n",
              "      <th>vendor_id</th>\n",
              "      <td>-0.140063</td>\n",
              "    </tr>\n",
              "    <tr>\n",
              "      <th>hour</th>\n",
              "      <td>-0.444902</td>\n",
              "    </tr>\n",
              "    <tr>\n",
              "      <th>dropoff_latitude</th>\n",
              "      <td>-10.436058</td>\n",
              "    </tr>\n",
              "    <tr>\n",
              "      <th>pickup_longitude</th>\n",
              "      <td>-427.465040</td>\n",
              "    </tr>\n",
              "    <tr>\n",
              "      <th>dropoff_longitude</th>\n",
              "      <td>-436.891048</td>\n",
              "    </tr>\n",
              "  </tbody>\n",
              "</table>\n",
              "</div>"
            ],
            "text/plain": [
              "                          Skew\n",
              "ave_speed_x         580.420795\n",
              "ave_speed_y         469.961762\n",
              "dist                 26.288577\n",
              "store_and_fwd_flag   13.364071\n",
              "dist_lat              8.370125\n",
              "dist_long             5.257774\n",
              "pickup_latitude       2.131394\n",
              "passenger_count       2.130139\n",
              "0_y                   0.320090\n",
              "0_x                   0.244715\n",
              "day                   0.040479\n",
              "minute               -0.008029\n",
              "Temp.                -0.013163\n",
              "month                -0.015893\n",
              "weekday              -0.042597\n",
              "dayofweek            -0.042597\n",
              "vendor_id            -0.140063\n",
              "hour                 -0.444902\n",
              "dropoff_latitude    -10.436058\n",
              "pickup_longitude   -427.465040\n",
              "dropoff_longitude  -436.891048"
            ]
          },
          "metadata": {
            "tags": []
          },
          "execution_count": 61
        }
      ]
    },
    {
      "metadata": {
        "id": "DM3FOa8iW3Q-",
        "colab_type": "text"
      },
      "cell_type": "markdown",
      "source": [
        "#### Box Cox Transformation of (highly) skewed features"
      ]
    },
    {
      "metadata": {
        "id": "juC-DZHAWzci",
        "colab_type": "code",
        "outputId": "ecd0a2a4-cff1-4390-c48d-c38b5190a24c",
        "colab": {
          "base_uri": "https://localhost:8080/",
          "height": 35
        }
      },
      "cell_type": "code",
      "source": [
        "skewness = skewness[abs(skewness) > 0.75]\n",
        "print(\"There are {} skewed numerical features to Box Cox transform\".format(skewness.shape[0]))\n",
        "\n",
        "from scipy.special import boxcox1p\n",
        "skewed_features = skewness.index\n",
        "lam = 0.15\n",
        "for feat in skewed_features:\n",
        "    all_data[feat] += 1\n",
        "    all_data[feat] = boxcox1p(all_data[feat], lam)"
      ],
      "execution_count": 0,
      "outputs": [
        {
          "output_type": "stream",
          "text": [
            "There are 21 skewed numerical features to Box Cox transform\n"
          ],
          "name": "stdout"
        }
      ]
    },
    {
      "metadata": {
        "id": "cfH8JNY7dppg",
        "colab_type": "code",
        "outputId": "8f30622a-c99c-4f74-e254-81fb2335d62b",
        "colab": {
          "base_uri": "https://localhost:8080/",
          "height": 754
        }
      },
      "cell_type": "code",
      "source": [
        "numeric_feats = all_data.dtypes[all_data.dtypes != \"object\"].index\n",
        "\n",
        "# Check the skew of all numerical features\n",
        "skewed_feats = all_data[numeric_feats].apply(lambda x: skew(x.dropna())).sort_values(ascending=False)\n",
        "print(\"\\nSkew in numerical features: \\n\")\n",
        "skewness = pd.DataFrame({'Skew' :skewed_feats})\n",
        "skewness"
      ],
      "execution_count": 0,
      "outputs": [
        {
          "output_type": "stream",
          "text": [
            "\n",
            "Skew in numerical features: \n",
            "\n"
          ],
          "name": "stdout"
        },
        {
          "output_type": "execute_result",
          "data": {
            "text/html": [
              "<div>\n",
              "<style scoped>\n",
              "    .dataframe tbody tr th:only-of-type {\n",
              "        vertical-align: middle;\n",
              "    }\n",
              "\n",
              "    .dataframe tbody tr th {\n",
              "        vertical-align: top;\n",
              "    }\n",
              "\n",
              "    .dataframe thead th {\n",
              "        text-align: right;\n",
              "    }\n",
              "</style>\n",
              "<table border=\"1\" class=\"dataframe\">\n",
              "  <thead>\n",
              "    <tr style=\"text-align: right;\">\n",
              "      <th></th>\n",
              "      <th>Skew</th>\n",
              "    </tr>\n",
              "  </thead>\n",
              "  <tbody>\n",
              "    <tr>\n",
              "      <th>store_and_fwd_flag</th>\n",
              "      <td>13.364071</td>\n",
              "    </tr>\n",
              "    <tr>\n",
              "      <th>dist</th>\n",
              "      <td>5.805183</td>\n",
              "    </tr>\n",
              "    <tr>\n",
              "      <th>ave_speed_x</th>\n",
              "      <td>3.396248</td>\n",
              "    </tr>\n",
              "    <tr>\n",
              "      <th>ave_speed_y</th>\n",
              "      <td>2.593857</td>\n",
              "    </tr>\n",
              "    <tr>\n",
              "      <th>passenger_count</th>\n",
              "      <td>1.832126</td>\n",
              "    </tr>\n",
              "    <tr>\n",
              "      <th>dist_long</th>\n",
              "      <td>0.770187</td>\n",
              "    </tr>\n",
              "    <tr>\n",
              "      <th>vendor_id</th>\n",
              "      <td>-0.140063</td>\n",
              "    </tr>\n",
              "    <tr>\n",
              "      <th>month</th>\n",
              "      <td>-0.339211</td>\n",
              "    </tr>\n",
              "    <tr>\n",
              "      <th>dayofweek</th>\n",
              "      <td>-0.499752</td>\n",
              "    </tr>\n",
              "    <tr>\n",
              "      <th>weekday</th>\n",
              "      <td>-0.499752</td>\n",
              "    </tr>\n",
              "    <tr>\n",
              "      <th>day</th>\n",
              "      <td>-0.674244</td>\n",
              "    </tr>\n",
              "    <tr>\n",
              "      <th>minute</th>\n",
              "      <td>-0.942597</td>\n",
              "    </tr>\n",
              "    <tr>\n",
              "      <th>Temp.</th>\n",
              "      <td>-1.079405</td>\n",
              "    </tr>\n",
              "    <tr>\n",
              "      <th>dist_lat</th>\n",
              "      <td>-1.244161</td>\n",
              "    </tr>\n",
              "    <tr>\n",
              "      <th>0_y</th>\n",
              "      <td>-1.327020</td>\n",
              "    </tr>\n",
              "    <tr>\n",
              "      <th>hour</th>\n",
              "      <td>-1.428462</td>\n",
              "    </tr>\n",
              "    <tr>\n",
              "      <th>0_x</th>\n",
              "      <td>-1.552371</td>\n",
              "    </tr>\n",
              "    <tr>\n",
              "      <th>pickup_latitude</th>\n",
              "      <td>-6.666834</td>\n",
              "    </tr>\n",
              "    <tr>\n",
              "      <th>dropoff_latitude</th>\n",
              "      <td>-15.382984</td>\n",
              "    </tr>\n",
              "    <tr>\n",
              "      <th>dropoff_longitude</th>\n",
              "      <td>NaN</td>\n",
              "    </tr>\n",
              "    <tr>\n",
              "      <th>pickup_longitude</th>\n",
              "      <td>NaN</td>\n",
              "    </tr>\n",
              "  </tbody>\n",
              "</table>\n",
              "</div>"
            ],
            "text/plain": [
              "                         Skew\n",
              "store_and_fwd_flag  13.364071\n",
              "dist                 5.805183\n",
              "ave_speed_x          3.396248\n",
              "ave_speed_y          2.593857\n",
              "passenger_count      1.832126\n",
              "dist_long            0.770187\n",
              "vendor_id           -0.140063\n",
              "month               -0.339211\n",
              "dayofweek           -0.499752\n",
              "weekday             -0.499752\n",
              "day                 -0.674244\n",
              "minute              -0.942597\n",
              "Temp.               -1.079405\n",
              "dist_lat            -1.244161\n",
              "0_y                 -1.327020\n",
              "hour                -1.428462\n",
              "0_x                 -1.552371\n",
              "pickup_latitude     -6.666834\n",
              "dropoff_latitude   -15.382984\n",
              "dropoff_longitude         NaN\n",
              "pickup_longitude          NaN"
            ]
          },
          "metadata": {
            "tags": []
          },
          "execution_count": 51
        }
      ]
    },
    {
      "metadata": {
        "id": "WbZu7wYId3r9",
        "colab_type": "code",
        "colab": {}
      },
      "cell_type": "code",
      "source": [
        "xtrain = all_data[:ntrain]\n",
        "xtest = all_data[ntrain:]"
      ],
      "execution_count": 0,
      "outputs": []
    },
    {
      "metadata": {
        "id": "otpS1DclarnF",
        "colab_type": "text"
      },
      "cell_type": "markdown",
      "source": [
        "### Split data"
      ]
    },
    {
      "metadata": {
        "id": "Z8tejOl6gV0P",
        "colab_type": "code",
        "outputId": "85bb6cf7-08b8-496b-8c1a-42c904461111",
        "colab": {
          "base_uri": "https://localhost:8080/",
          "height": 35
        }
      },
      "cell_type": "code",
      "source": [
        "from sklearn.model_selection import train_test_split\n",
        "X_train, X_valid, y_train, y_valid = train_test_split(xtrain,y, test_size=0.5, random_state=42)\n",
        "X_train.shape, X_valid.shape, y_train.shape, y_valid.shape"
      ],
      "execution_count": 0,
      "outputs": [
        {
          "output_type": "execute_result",
          "data": {
            "text/plain": [
              "((729322, 21), (729322, 21), (729322,), (729322,))"
            ]
          },
          "metadata": {
            "tags": []
          },
          "execution_count": 112
        }
      ]
    },
    {
      "metadata": {
        "id": "XaHOUpOpcuT4",
        "colab_type": "text"
      },
      "cell_type": "markdown",
      "source": [
        "## Using `Tree`\n"
      ]
    },
    {
      "metadata": {
        "id": "wONbBHaxdA1S",
        "colab_type": "code",
        "colab": {}
      },
      "cell_type": "code",
      "source": [
        "dtr = DecisionTreeRegressor(criterion=\"mse\",max_depth=14, max_features=0.5, min_samples_split=0.5, random_state=42)\n",
        "etr = ExtraTreeRegressor(criterion=\"mse\",max_depth=14, max_features=0.5, min_samples_split=0.5, random_state=42)"
      ],
      "execution_count": 0,
      "outputs": []
    },
    {
      "metadata": {
        "id": "zbxo6bhDgxU2",
        "colab_type": "code",
        "outputId": "36d0c8a5-1cfe-4b5f-a9a9-14674b087be6",
        "colab": {
          "base_uri": "https://localhost:8080/",
          "height": 107
        }
      },
      "cell_type": "code",
      "source": [
        "dtr.fit(X_train,y_train)\n",
        "etr.fit(X_train,y_train)"
      ],
      "execution_count": 0,
      "outputs": [
        {
          "output_type": "execute_result",
          "data": {
            "text/plain": [
              "ExtraTreeRegressor(criterion='mse', max_depth=14, max_features=0.5,\n",
              "          max_leaf_nodes=None, min_impurity_decrease=0.0,\n",
              "          min_impurity_split=None, min_samples_leaf=1,\n",
              "          min_samples_split=0.5, min_weight_fraction_leaf=0.0,\n",
              "          random_state=42, splitter='random')"
            ]
          },
          "metadata": {
            "tags": []
          },
          "execution_count": 114
        }
      ]
    },
    {
      "metadata": {
        "id": "Is9Ag42DpO6d",
        "colab_type": "code",
        "colab": {}
      },
      "cell_type": "code",
      "source": [
        "from sklearn.metrics import mean_squared_log_error\n",
        "def rmsle(y, pred):\n",
        "    return np.sqrt(mean_squared_log_error(y,pred))"
      ],
      "execution_count": 0,
      "outputs": []
    },
    {
      "metadata": {
        "id": "MmBiTO7dpiUD",
        "colab_type": "code",
        "outputId": "3526f9a8-2a8f-48e7-f63b-2d36acc9cda7",
        "colab": {
          "base_uri": "https://localhost:8080/",
          "height": 53
        }
      },
      "cell_type": "code",
      "source": [
        "y_pred_dtr = dtr.predict(X_valid)\n",
        "y_pred_etr = etr.predict(X_valid)\n",
        "print(\"rmsle for DTR: {} \\n rmsle for ETR: {}\".format(rmsle(y_valid, y_pred_dtr),rmsle(y_valid, y_pred_etr)))"
      ],
      "execution_count": 0,
      "outputs": [
        {
          "output_type": "stream",
          "text": [
            "rmsle for DTR: 0.08787277716383204 \n",
            " rmsle for ETR: 0.11349226885659831\n"
          ],
          "name": "stdout"
        }
      ]
    },
    {
      "metadata": {
        "id": "jEJ4AgmbtDUg",
        "colab_type": "code",
        "outputId": "62dcbbc8-b034-470b-d59d-4254f20c6872",
        "colab": {
          "base_uri": "https://localhost:8080/",
          "height": 107
        }
      },
      "cell_type": "code",
      "source": [
        "dtr.feature_importances_"
      ],
      "execution_count": 0,
      "outputs": [
        {
          "output_type": "execute_result",
          "data": {
            "text/plain": [
              "array([0.        , 0.        , 0.        , 0.        , 0.        ,\n",
              "       0.        , 0.        , 0.        , 0.        , 0.        ,\n",
              "       0.        , 0.        , 0.        , 0.61900474, 0.        ,\n",
              "       0.38099526, 0.        , 0.        , 0.        , 0.        ,\n",
              "       0.        ])"
            ]
          },
          "metadata": {
            "tags": []
          },
          "execution_count": 117
        }
      ]
    },
    {
      "metadata": {
        "id": "J1vnEQgAtP8b",
        "colab_type": "code",
        "outputId": "539eadfd-b7d6-4392-af6e-506a2c0cbb4c",
        "colab": {
          "base_uri": "https://localhost:8080/",
          "height": 107
        }
      },
      "cell_type": "code",
      "source": [
        "etr.feature_importances_"
      ],
      "execution_count": 0,
      "outputs": [
        {
          "output_type": "execute_result",
          "data": {
            "text/plain": [
              "array([0.        , 0.        , 0.        , 0.        , 0.        ,\n",
              "       0.        , 0.        , 0.        , 0.        , 0.        ,\n",
              "       0.        , 0.        , 0.        , 0.        , 0.        ,\n",
              "       0.        , 0.17384434, 0.82615566, 0.        , 0.        ,\n",
              "       0.        ])"
            ]
          },
          "metadata": {
            "tags": []
          },
          "execution_count": 118
        }
      ]
    },
    {
      "metadata": {
        "id": "3UemQacqcWfz",
        "colab_type": "code",
        "colab": {}
      },
      "cell_type": "code",
      "source": [
        "y_test_dtr = dtr.predict(xtest)\n",
        "y_test_etr = etr.predict(xtest)"
      ],
      "execution_count": 0,
      "outputs": []
    },
    {
      "metadata": {
        "id": "6MWetum-e_OV",
        "colab_type": "code",
        "colab": {}
      },
      "cell_type": "code",
      "source": [
        "df_train = pd.DataFrame({'dtr':y_pred_dtr, 'etr':y_pred_etr})\n",
        "df_test = pd.DataFrame({'dtr':y_test_dtr, 'etr':y_test_etr})"
      ],
      "execution_count": 0,
      "outputs": []
    },
    {
      "metadata": {
        "id": "x8Ob9xvPscVX",
        "colab_type": "text"
      },
      "cell_type": "markdown",
      "source": [
        "## Using ensemble"
      ]
    },
    {
      "metadata": {
        "id": "GDXDpT5sdBZ-",
        "colab_type": "code",
        "colab": {}
      },
      "cell_type": "code",
      "source": [
        "gbr = GradientBoostingRegressor(learning_rate=0.5, n_estimators=20,subsample=0.7, max_features=0.9)"
      ],
      "execution_count": 0,
      "outputs": []
    },
    {
      "metadata": {
        "id": "kJVou2mftnEx",
        "colab_type": "code",
        "outputId": "23948893-9946-4122-a47c-9e22c64444b8",
        "colab": {
          "base_uri": "https://localhost:8080/",
          "height": 161
        }
      },
      "cell_type": "code",
      "source": [
        "gbr.fit(X_train, y_train)"
      ],
      "execution_count": 0,
      "outputs": [
        {
          "output_type": "execute_result",
          "data": {
            "text/plain": [
              "GradientBoostingRegressor(alpha=0.9, criterion='friedman_mse', init=None,\n",
              "             learning_rate=0.5, loss='ls', max_depth=3, max_features=0.9,\n",
              "             max_leaf_nodes=None, min_impurity_decrease=0.0,\n",
              "             min_impurity_split=None, min_samples_leaf=1,\n",
              "             min_samples_split=2, min_weight_fraction_leaf=0.0,\n",
              "             n_estimators=20, n_iter_no_change=None, presort='auto',\n",
              "             random_state=None, subsample=0.7, tol=0.0001,\n",
              "             validation_fraction=0.1, verbose=0, warm_start=False)"
            ]
          },
          "metadata": {
            "tags": []
          },
          "execution_count": 124
        }
      ]
    },
    {
      "metadata": {
        "id": "wMMVrCYCt-RH",
        "colab_type": "code",
        "outputId": "971b3647-2065-4131-9ec2-70888f163d8e",
        "colab": {
          "base_uri": "https://localhost:8080/",
          "height": 35
        }
      },
      "cell_type": "code",
      "source": [
        "y_pred_gbr = gbr.predict(X_valid)\n",
        "y_test_gbr = gbr.predict(xtest)\n",
        "print(\"rmsle for gbr: {} \".format(rmsle(y_valid, y_pred_gbr)))"
      ],
      "execution_count": 0,
      "outputs": [
        {
          "output_type": "stream",
          "text": [
            "rmsle for gbr: 0.06530280025903959 \n"
          ],
          "name": "stdout"
        }
      ]
    },
    {
      "metadata": {
        "id": "6s2Lj-HIf8aa",
        "colab_type": "code",
        "colab": {}
      },
      "cell_type": "code",
      "source": [
        "df_train['gbr'] = y_pred_gbr\n",
        "df_test['gbr'] = y_test_gbr"
      ],
      "execution_count": 0,
      "outputs": []
    },
    {
      "metadata": {
        "id": "0RC9puw2gMPW",
        "colab_type": "code",
        "colab": {}
      },
      "cell_type": "code",
      "source": [
        "rfr = RandomForestRegressor(n_estimators=30)"
      ],
      "execution_count": 0,
      "outputs": []
    },
    {
      "metadata": {
        "id": "vVD9flBYgZqt",
        "colab_type": "code",
        "outputId": "99bf065e-f953-47b3-9b11-363da56c2491",
        "colab": {
          "base_uri": "https://localhost:8080/",
          "height": 125
        }
      },
      "cell_type": "code",
      "source": [
        "rfr.fit(X_train, y_train)"
      ],
      "execution_count": 0,
      "outputs": [
        {
          "output_type": "execute_result",
          "data": {
            "text/plain": [
              "RandomForestRegressor(bootstrap=True, criterion='mse', max_depth=None,\n",
              "           max_features='auto', max_leaf_nodes=None,\n",
              "           min_impurity_decrease=0.0, min_impurity_split=None,\n",
              "           min_samples_leaf=1, min_samples_split=2,\n",
              "           min_weight_fraction_leaf=0.0, n_estimators=30, n_jobs=None,\n",
              "           oob_score=False, random_state=None, verbose=0, warm_start=False)"
            ]
          },
          "metadata": {
            "tags": []
          },
          "execution_count": 130
        }
      ]
    },
    {
      "metadata": {
        "id": "32Zrub7mgdjz",
        "colab_type": "code",
        "outputId": "c7f82319-a7d4-4b2a-8a17-86d1dcd9696d",
        "colab": {
          "base_uri": "https://localhost:8080/",
          "height": 35
        }
      },
      "cell_type": "code",
      "source": [
        "y_pred_rfr = rfr.predict(X_valid)\n",
        "y_test_rfr = rfr.predict(xtest)\n",
        "print(\"rmsle for gbr: {} \".format(rmsle(y_valid, y_pred_rfr)))"
      ],
      "execution_count": 0,
      "outputs": [
        {
          "output_type": "stream",
          "text": [
            "rmsle for gbr: 0.06035590584753727 \n"
          ],
          "name": "stdout"
        }
      ]
    },
    {
      "metadata": {
        "id": "TntHs_JZglfS",
        "colab_type": "code",
        "colab": {}
      },
      "cell_type": "code",
      "source": [
        "df_train['rfr'] = y_pred_rfr\n",
        "df_test['rfr'] = y_test_rfr"
      ],
      "execution_count": 0,
      "outputs": []
    },
    {
      "metadata": {
        "id": "_MA9YpWKKTop",
        "colab_type": "text"
      },
      "cell_type": "markdown",
      "source": [
        "## Using LGBM"
      ]
    },
    {
      "metadata": {
        "id": "4AsF4X2IKByj",
        "colab_type": "text"
      },
      "cell_type": "markdown",
      "source": [
        "### Configuration of param LGBM"
      ]
    },
    {
      "metadata": {
        "id": "wP3cwJVOI4n8",
        "colab_type": "code",
        "outputId": "7627c97b-96f7-4567-b191-c5744b1e94ee",
        "colab": {
          "base_uri": "https://localhost:8080/",
          "height": 35
        }
      },
      "cell_type": "code",
      "source": [
        "## lightgbm parameters\n",
        "params = {\n",
        "    'learning_rate': 0.1,\n",
        "    'max_depth': 10,\n",
        "    'num_leaves': 60, \n",
        "    'objective': 'regression',\n",
        "    'metric': 'rmse',\n",
        "    'feature_fraction': 0.9,\n",
        "    'bagging_fraction': 0.5,\n",
        "    #'bagging_freq': 5,\n",
        "    'max_bin': 200\n",
        "}\n",
        "\n",
        "## number of rounds\n",
        "nrounds = 1000\n",
        "\n",
        "## train model\n",
        "print('Train model lightGBM...')\n",
        "dtrain = lgb.Dataset(X_train, y_train)"
      ],
      "execution_count": 0,
      "outputs": [
        {
          "output_type": "stream",
          "text": [
            "Train model lightGBM...\n"
          ],
          "name": "stdout"
        }
      ]
    },
    {
      "metadata": {
        "id": "2XJlYXl7KN5a",
        "colab_type": "text"
      },
      "cell_type": "markdown",
      "source": [
        "### Traing model LGBM"
      ]
    },
    {
      "metadata": {
        "id": "kC9agpT6oaSD",
        "colab_type": "code",
        "colab": {}
      },
      "cell_type": "code",
      "source": [
        "lgbm = lgb.train(params,\n",
        "                dtrain,\n",
        "                num_boost_round = nrounds)\n"
      ],
      "execution_count": 0,
      "outputs": []
    },
    {
      "metadata": {
        "id": "9XEvil8tKe5w",
        "colab_type": "text"
      },
      "cell_type": "markdown",
      "source": [
        "### Predicting"
      ]
    },
    {
      "metadata": {
        "id": "_sUBHU4yKdaO",
        "colab_type": "code",
        "outputId": "ab66d02e-bb22-48be-fa6a-1068cf1ed2ce",
        "colab": {
          "base_uri": "https://localhost:8080/",
          "height": 35
        }
      },
      "cell_type": "code",
      "source": [
        "## predict valid\n",
        "y_pred_lgbm = lgbm.predict(X_valid)\n",
        "y_test_lgbm = lgbm.predict(xtest)\n",
        "print(\"rmsle for gbr: {} \".format(rmsle(y_valid, y_pred_lgbm)))"
      ],
      "execution_count": 0,
      "outputs": [
        {
          "output_type": "stream",
          "text": [
            "rmsle for gbr: 0.05787703747272962 \n"
          ],
          "name": "stdout"
        }
      ]
    },
    {
      "metadata": {
        "id": "IBFc_W4Cl1gZ",
        "colab_type": "code",
        "colab": {}
      },
      "cell_type": "code",
      "source": [
        "df_train['lgbm'] = y_pred_lgbm\n",
        "df_test['lgbm'] = y_test_lgbm"
      ],
      "execution_count": 0,
      "outputs": []
    },
    {
      "metadata": {
        "id": "r4Txk4mzlsd1",
        "colab_type": "code",
        "colab": {}
      },
      "cell_type": "code",
      "source": [
        "## test predictions\n",
        "pred_test = np.exp(lgbm.predict(xtest))\n",
        "\n",
        "## create submission\n",
        "df = pd.DataFrame({'id': id_test, 'trip_duration': pred_test}) \n",
        "df = df.set_index('id')\n",
        "df.to_csv('sub_lgbm.csv', index = True)\n",
        "del(df,pred_test)"
      ],
      "execution_count": 0,
      "outputs": []
    },
    {
      "metadata": {
        "id": "nzObZsxDNZFX",
        "colab_type": "code",
        "outputId": "04d61e93-f560-4602-9921-0fb4c0d196eb",
        "colab": {
          "base_uri": "https://localhost:8080/",
          "height": 53
        }
      },
      "cell_type": "code",
      "source": [
        "# submit file\n",
        "!kaggle competitions submit -c nyc-taxi-trip-duration -f sub_lgbm.csv -m \"submission by LGBM version box cox transform\""
      ],
      "execution_count": 0,
      "outputs": [
        {
          "output_type": "stream",
          "text": [
            "100% 16.9M/16.9M [00:02<00:00, 7.63MB/s]\n",
            "Successfully submitted to New York City Taxi Trip Duration"
          ],
          "name": "stdout"
        }
      ]
    },
    {
      "metadata": {
        "id": "ygXf_Vm3I4q2",
        "colab_type": "text"
      },
      "cell_type": "markdown",
      "source": [
        "## XGBoost"
      ]
    },
    {
      "metadata": {
        "id": "m-85DoBcK3Nt",
        "colab_type": "text"
      },
      "cell_type": "markdown",
      "source": [
        "### Configuration param of XGB"
      ]
    },
    {
      "metadata": {
        "id": "Vz-vMPqMK9zb",
        "colab_type": "code",
        "colab": {}
      },
      "cell_type": "code",
      "source": [
        "## xgb parameters\n",
        "params_xgb = {\n",
        "    'booster':            'gbtree',\n",
        "    'objective':          'reg:linear',\n",
        "    'learning_rate':      0.01,\n",
        "    'max_depth':          14,\n",
        "    'subsample':          0.8,\n",
        "    'colsample_bytree':   0.7,\n",
        "    'colsample_bylevel':  0.7,\n",
        "    'silent':             1\n",
        "}\n",
        "\n",
        "## number of rounds\n",
        "nrounds = 300"
      ],
      "execution_count": 0,
      "outputs": []
    },
    {
      "metadata": {
        "id": "22DOcjGgLEHh",
        "colab_type": "text"
      },
      "cell_type": "markdown",
      "source": [
        "### Training model"
      ]
    },
    {
      "metadata": {
        "id": "OdxEw-8QLH7w",
        "colab_type": "code",
        "outputId": "b2000968-6cdb-4c98-c037-26174c8ac76c",
        "colab": {
          "base_uri": "https://localhost:8080/",
          "height": 35
        }
      },
      "cell_type": "code",
      "source": [
        "## train model\n",
        "print('Train model XGBOOST...')\n",
        "dtrain = xgb.DMatrix(xtrain, y)\n",
        "xgbm = xgb.train(params_xgb,\n",
        "                dtrain,\n",
        "                num_boost_round = nrounds)\n"
      ],
      "execution_count": 0,
      "outputs": [
        {
          "output_type": "stream",
          "text": [
            "Train model XGBOOST...\n"
          ],
          "name": "stdout"
        }
      ]
    },
    {
      "metadata": {
        "id": "XNH3IHkPLJv1",
        "colab_type": "text"
      },
      "cell_type": "markdown",
      "source": [
        "### Predicting"
      ]
    },
    {
      "metadata": {
        "id": "EcIL4xmPLLi-",
        "colab_type": "code",
        "colab": {}
      },
      "cell_type": "code",
      "source": [
        "## test predictions\n",
        "pred_test = np.exp(xgbm.predict(xgb.DMatrix(xtest)))\n",
        "\n",
        "## create submission\n",
        "df = pd.DataFrame({'id': id_test, 'trip_duration': pred_test}) \n",
        "df = df.set_index('id')\n",
        "df.to_csv('sub_xgbm.csv', index = True)\n",
        "del(df,pred_test)"
      ],
      "execution_count": 0,
      "outputs": []
    },
    {
      "metadata": {
        "id": "LJYBHgXjWLJ3",
        "colab_type": "code",
        "outputId": "ee38121f-f6f8-4a93-e587-09080d3c6094",
        "colab": {
          "base_uri": "https://localhost:8080/",
          "height": 53
        }
      },
      "cell_type": "code",
      "source": [
        "# submit file\n",
        "!kaggle competitions submit -c nyc-taxi-trip-duration -f sub_xgbm.csv -m \"submission by XGB model version cox box transform\""
      ],
      "execution_count": 0,
      "outputs": [
        {
          "output_type": "stream",
          "text": [
            "100% 11.7M/11.7M [00:02<00:00, 5.78MB/s]\n",
            "Successfully submitted to New York City Taxi Trip Duration"
          ],
          "name": "stdout"
        }
      ]
    },
    {
      "metadata": {
        "id": "zMDWfyCgWZEs",
        "colab_type": "text"
      },
      "cell_type": "markdown",
      "source": [
        "## Stacked model (LGBM + XGB)"
      ]
    },
    {
      "metadata": {
        "id": "__wNJW_0gkDo",
        "colab_type": "code",
        "colab": {}
      },
      "cell_type": "code",
      "source": [
        "df_lgbm = pd.read_csv(\"sub_lgbm.csv\")\n",
        "df_xgbm = pd.read_csv(\"sub_xgbm.csv\")"
      ],
      "execution_count": 0,
      "outputs": []
    },
    {
      "metadata": {
        "id": "GxqMwUNEfbJz",
        "colab_type": "code",
        "colab": {}
      },
      "cell_type": "code",
      "source": [
        "lgbm_weight = 0.75\n",
        "xgb_weight = 0.25\n",
        "pred_test = lgbm_weight*df_lgbm['trip_duration'].values + xgb_weight*df_xgbm['trip_duration'].values\n",
        "## create submission\n",
        "df = pd.DataFrame({'id': id_test, 'trip_duration': pred_test}) \n",
        "df = df.set_index('id')\n",
        "df.to_csv('sub_lgbm_xgbm.csv', index = True)"
      ],
      "execution_count": 0,
      "outputs": []
    },
    {
      "metadata": {
        "id": "UOPKy1wKgnZB",
        "colab_type": "code",
        "outputId": "4aa8e8e5-b742-40f3-daf7-0ed02367a1f7",
        "colab": {
          "base_uri": "https://localhost:8080/",
          "height": 53
        }
      },
      "cell_type": "code",
      "source": [
        "# submit file\n",
        "!kaggle competitions submit -c nyc-taxi-trip-duration -f sub_lgbm_xgbm.csv -m \"submission by stacked model LGBM + XGBM\""
      ],
      "execution_count": 0,
      "outputs": [
        {
          "output_type": "stream",
          "text": [
            "100% 16.9M/16.9M [00:03<00:00, 4.45MB/s]\n",
            "Successfully submitted to New York City Taxi Trip Duration"
          ],
          "name": "stdout"
        }
      ]
    },
    {
      "metadata": {
        "id": "6cnBdgrXjZ8n",
        "colab_type": "code",
        "colab": {}
      },
      "cell_type": "code",
      "source": [
        ""
      ],
      "execution_count": 0,
      "outputs": []
    },
    {
      "metadata": {
        "id": "Jf5ZpnOogvs9",
        "colab_type": "code",
        "outputId": "10784667-e103-4e15-ccc0-8a92eb3f8f1d",
        "colab": {
          "base_uri": "https://localhost:8080/",
          "height": 71
        }
      },
      "cell_type": "code",
      "source": [
        "print(\"LGBM: Private leadboard {}, Public leadboard {}\".format(0.38622, 0.38879))\n",
        "print(\"XGBM: Private leadboard {}, Public leadboard {}\".format(0.39182, 0.39473))\n",
        "print(\"LGBM + XGBM: Private leadboard {0}, Public leadboard {1}\".format(0.38719, 0.38960))"
      ],
      "execution_count": 0,
      "outputs": [
        {
          "output_type": "stream",
          "text": [
            "LGBM: Private leadboard 0.38622, Public leadboard 0.38879\n",
            "XGBM: Private leadboard 0.39182, Public leadboard 0.39473\n",
            "LGBM + XGBM: Private leadboard 0.38719, Public leadboard 0.3896\n"
          ],
          "name": "stdout"
        }
      ]
    },
    {
      "metadata": {
        "id": "LErUH0A7jkMt",
        "colab_type": "code",
        "colab": {}
      },
      "cell_type": "code",
      "source": [
        ""
      ],
      "execution_count": 0,
      "outputs": []
    },
    {
      "metadata": {
        "id": "yp5zGNJ-apgy",
        "colab_type": "text"
      },
      "cell_type": "markdown",
      "source": [
        "## Stacked model"
      ]
    },
    {
      "metadata": {
        "id": "MOCeGHwJmMZJ",
        "colab_type": "code",
        "outputId": "c4466f92-eb19-4fe5-ec81-8256dd5235e2",
        "colab": {
          "base_uri": "https://localhost:8080/",
          "height": 204
        }
      },
      "cell_type": "code",
      "source": [
        "df_train.head()"
      ],
      "execution_count": 0,
      "outputs": [
        {
          "output_type": "execute_result",
          "data": {
            "text/html": [
              "<div>\n",
              "<style scoped>\n",
              "    .dataframe tbody tr th:only-of-type {\n",
              "        vertical-align: middle;\n",
              "    }\n",
              "\n",
              "    .dataframe tbody tr th {\n",
              "        vertical-align: top;\n",
              "    }\n",
              "\n",
              "    .dataframe thead th {\n",
              "        text-align: right;\n",
              "    }\n",
              "</style>\n",
              "<table border=\"1\" class=\"dataframe\">\n",
              "  <thead>\n",
              "    <tr style=\"text-align: right;\">\n",
              "      <th></th>\n",
              "      <th>dtr</th>\n",
              "      <th>etr</th>\n",
              "      <th>gbr</th>\n",
              "      <th>rfr</th>\n",
              "      <th>lgbm</th>\n",
              "    </tr>\n",
              "  </thead>\n",
              "  <tbody>\n",
              "    <tr>\n",
              "      <th>0</th>\n",
              "      <td>6.538733</td>\n",
              "      <td>6.284462</td>\n",
              "      <td>6.386696</td>\n",
              "      <td>6.667216</td>\n",
              "      <td>6.630865</td>\n",
              "    </tr>\n",
              "    <tr>\n",
              "      <th>1</th>\n",
              "      <td>6.538733</td>\n",
              "      <td>6.284462</td>\n",
              "      <td>6.481406</td>\n",
              "      <td>6.497022</td>\n",
              "      <td>6.564475</td>\n",
              "    </tr>\n",
              "    <tr>\n",
              "      <th>2</th>\n",
              "      <td>6.538733</td>\n",
              "      <td>6.284462</td>\n",
              "      <td>6.163007</td>\n",
              "      <td>5.965546</td>\n",
              "      <td>6.134605</td>\n",
              "    </tr>\n",
              "    <tr>\n",
              "      <th>3</th>\n",
              "      <td>6.538733</td>\n",
              "      <td>6.427059</td>\n",
              "      <td>6.866480</td>\n",
              "      <td>6.969598</td>\n",
              "      <td>6.980721</td>\n",
              "    </tr>\n",
              "    <tr>\n",
              "      <th>4</th>\n",
              "      <td>7.273609</td>\n",
              "      <td>6.427059</td>\n",
              "      <td>8.291095</td>\n",
              "      <td>8.437729</td>\n",
              "      <td>8.453834</td>\n",
              "    </tr>\n",
              "  </tbody>\n",
              "</table>\n",
              "</div>"
            ],
            "text/plain": [
              "        dtr       etr       gbr       rfr      lgbm\n",
              "0  6.538733  6.284462  6.386696  6.667216  6.630865\n",
              "1  6.538733  6.284462  6.481406  6.497022  6.564475\n",
              "2  6.538733  6.284462  6.163007  5.965546  6.134605\n",
              "3  6.538733  6.427059  6.866480  6.969598  6.980721\n",
              "4  7.273609  6.427059  8.291095  8.437729  8.453834"
            ]
          },
          "metadata": {
            "tags": []
          },
          "execution_count": 139
        }
      ]
    },
    {
      "metadata": {
        "id": "-vkPtHvMmfnl",
        "colab_type": "code",
        "outputId": "3ab95d5a-3087-402a-d17d-5ad3dc3f83d2",
        "colab": {
          "base_uri": "https://localhost:8080/",
          "height": 204
        }
      },
      "cell_type": "code",
      "source": [
        "df_test.head()"
      ],
      "execution_count": 0,
      "outputs": [
        {
          "output_type": "execute_result",
          "data": {
            "text/html": [
              "<div>\n",
              "<style scoped>\n",
              "    .dataframe tbody tr th:only-of-type {\n",
              "        vertical-align: middle;\n",
              "    }\n",
              "\n",
              "    .dataframe tbody tr th {\n",
              "        vertical-align: top;\n",
              "    }\n",
              "\n",
              "    .dataframe thead th {\n",
              "        text-align: right;\n",
              "    }\n",
              "</style>\n",
              "<table border=\"1\" class=\"dataframe\">\n",
              "  <thead>\n",
              "    <tr style=\"text-align: right;\">\n",
              "      <th></th>\n",
              "      <th>dtr</th>\n",
              "      <th>etr</th>\n",
              "      <th>gbr</th>\n",
              "      <th>rfr</th>\n",
              "      <th>lgbm</th>\n",
              "    </tr>\n",
              "  </thead>\n",
              "  <tbody>\n",
              "    <tr>\n",
              "      <th>0</th>\n",
              "      <td>6.538733</td>\n",
              "      <td>6.427059</td>\n",
              "      <td>6.663997</td>\n",
              "      <td>6.609889</td>\n",
              "      <td>6.714643</td>\n",
              "    </tr>\n",
              "    <tr>\n",
              "      <th>1</th>\n",
              "      <td>6.538733</td>\n",
              "      <td>6.627771</td>\n",
              "      <td>6.402525</td>\n",
              "      <td>6.413003</td>\n",
              "      <td>6.459588</td>\n",
              "    </tr>\n",
              "    <tr>\n",
              "      <th>2</th>\n",
              "      <td>5.748681</td>\n",
              "      <td>6.427059</td>\n",
              "      <td>6.109192</td>\n",
              "      <td>5.997409</td>\n",
              "      <td>6.101380</td>\n",
              "    </tr>\n",
              "    <tr>\n",
              "      <th>3</th>\n",
              "      <td>7.273609</td>\n",
              "      <td>6.427059</td>\n",
              "      <td>7.061644</td>\n",
              "      <td>6.915780</td>\n",
              "      <td>6.862266</td>\n",
              "    </tr>\n",
              "    <tr>\n",
              "      <th>4</th>\n",
              "      <td>5.748681</td>\n",
              "      <td>6.284462</td>\n",
              "      <td>5.882973</td>\n",
              "      <td>5.810722</td>\n",
              "      <td>5.903209</td>\n",
              "    </tr>\n",
              "  </tbody>\n",
              "</table>\n",
              "</div>"
            ],
            "text/plain": [
              "        dtr       etr       gbr       rfr      lgbm\n",
              "0  6.538733  6.427059  6.663997  6.609889  6.714643\n",
              "1  6.538733  6.627771  6.402525  6.413003  6.459588\n",
              "2  5.748681  6.427059  6.109192  5.997409  6.101380\n",
              "3  7.273609  6.427059  7.061644  6.915780  6.862266\n",
              "4  5.748681  6.284462  5.882973  5.810722  5.903209"
            ]
          },
          "metadata": {
            "tags": []
          },
          "execution_count": 140
        }
      ]
    },
    {
      "metadata": {
        "id": "r-q9TcyvmiP4",
        "colab_type": "code",
        "colab": {}
      },
      "cell_type": "code",
      "source": [
        "en = ElasticNet(alpha=0.2)"
      ],
      "execution_count": 0,
      "outputs": []
    },
    {
      "metadata": {
        "id": "K5n680crm5zW",
        "colab_type": "code",
        "outputId": "68524809-c440-4672-af65-b19c6ae4c32d",
        "colab": {
          "base_uri": "https://localhost:8080/",
          "height": 71
        }
      },
      "cell_type": "code",
      "source": [
        "en.fit(df_train,y_valid)"
      ],
      "execution_count": 0,
      "outputs": [
        {
          "output_type": "execute_result",
          "data": {
            "text/plain": [
              "ElasticNet(alpha=0.2, copy_X=True, fit_intercept=True, l1_ratio=0.5,\n",
              "      max_iter=1000, normalize=False, positive=False, precompute=False,\n",
              "      random_state=None, selection='cyclic', tol=0.0001, warm_start=False)"
            ]
          },
          "metadata": {
            "tags": []
          },
          "execution_count": 150
        }
      ]
    },
    {
      "metadata": {
        "id": "iVMLM8ylnC3y",
        "colab_type": "code",
        "outputId": "bcd1f4a3-0fc8-437b-b3cd-c7cab655c9f4",
        "colab": {
          "base_uri": "https://localhost:8080/",
          "height": 35
        }
      },
      "cell_type": "code",
      "source": [
        "en_pred = en.predict(df_train)\n",
        "print(\"rmsle for gbr: {} \".format(rmsle(y_valid, en_pred)))"
      ],
      "execution_count": 0,
      "outputs": [
        {
          "output_type": "stream",
          "text": [
            "rmsle for gbr: 0.06528193971999488 \n"
          ],
          "name": "stdout"
        }
      ]
    },
    {
      "metadata": {
        "id": "AvehbhGdnPDp",
        "colab_type": "code",
        "colab": {}
      },
      "cell_type": "code",
      "source": [
        "pred_test = np.exp(en.predict(df_test))\n",
        "## create submission\n",
        "df = pd.DataFrame({'id': id_test, 'trip_duration': pred_test}) \n",
        "df = df.set_index('id')\n",
        "df.to_csv('baseline_model_stacked.csv', index = True)"
      ],
      "execution_count": 0,
      "outputs": []
    },
    {
      "metadata": {
        "id": "ivZbjU_wnnl6",
        "colab_type": "code",
        "outputId": "335c45ba-ec7c-4373-de71-2bee18b33dbd",
        "colab": {
          "base_uri": "https://localhost:8080/",
          "height": 53
        }
      },
      "cell_type": "code",
      "source": [
        "# submit file\n",
        "!kaggle competitions submit -c nyc-taxi-trip-duration -f baseline_model_stacked.csv -m \"submission by stacked model\""
      ],
      "execution_count": 0,
      "outputs": [
        {
          "output_type": "stream",
          "text": [
            "100% 16.8M/16.8M [00:03<00:00, 5.64MB/s]\n",
            "Successfully submitted to New York City Taxi Trip Duration"
          ],
          "name": "stdout"
        }
      ]
    },
    {
      "metadata": {
        "id": "NYgfv1o9ot8K",
        "colab_type": "code",
        "colab": {}
      },
      "cell_type": "code",
      "source": [
        ""
      ],
      "execution_count": 0,
      "outputs": []
    }
  ]
}